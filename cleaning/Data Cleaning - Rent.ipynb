{
 "cells": [
  {
   "cell_type": "code",
   "execution_count": 1,
   "metadata": {
    "collapsed": true
   },
   "outputs": [],
   "source": [
    "import pandas as pd\n",
    "import numpy as np"
   ]
  },
  {
   "cell_type": "code",
   "execution_count": 2,
   "metadata": {
    "collapsed": false
   },
   "outputs": [],
   "source": [
    "# load csv containing zipcodes and clean the file before merging\n",
    "zipcodes = pd.read_csv('zipcodes.csv')\n",
    "zipcodes['City'] = zipcodes.apply(lambda row: row['City'] if row['County'] != 'Queens' else row['County'], axis = 1) \n",
    "zipcodes = zipcodes.ix[:, :2]\n",
    "zipcode_key = zipcodes.set_index('Zip Code').T.to_dict('list')"
   ]
  },
  {
   "cell_type": "code",
   "execution_count": 3,
   "metadata": {
    "collapsed": true
   },
   "outputs": [],
   "source": [
    "df_rent = pd.read_csv('streeteasy_rent_clean_geo.csv')\n",
    "df_rent = df_rent[df_rent['fill_sqft'] != 1]\n",
    "df_rent = df_rent[df_rent['fill_baths'] != 1]\n",
    "\n",
    "drops = []\n",
    "for idx, column in enumerate(df_rent.columns.values):\n",
    "    #print idx, column\n",
    "    if 'Unnamed' in column or 'fill' in column:\n",
    "        drops.append(idx)\n",
    "df_rent.drop(df_rent.columns[drops], 1, inplace = True)"
   ]
  },
  {
   "cell_type": "code",
   "execution_count": 4,
   "metadata": {
    "collapsed": true
   },
   "outputs": [],
   "source": [
    "def get_borough(zipcode):\n",
    "    try:\n",
    "        return zipcode_key[int(zipcode)][0]\n",
    "    except:\n",
    "        return np.nan\n",
    "\n",
    "df_rent['Borough'] = df_rent['Zipcode'].apply(lambda zipcode: get_borough(zipcode))\n",
    "df_rent['Sqft_sq'] = df_rent['Sqft'].apply(lambda sqft: sqft ** 2.0)"
   ]
  },
  {
   "cell_type": "code",
   "execution_count": 5,
   "metadata": {
    "collapsed": true
   },
   "outputs": [],
   "source": [
    "df_rent.Borough = df_rent.Borough.replace(to_replace = 'New York', value = 'Manhattan')"
   ]
  },
  {
   "cell_type": "code",
   "execution_count": 6,
   "metadata": {
    "collapsed": false
   },
   "outputs": [
    {
     "data": {
      "text/plain": [
       "Manhattan        3410\n",
       "Brooklyn         1398\n",
       "Queens            482\n",
       "Bronx              58\n",
       "Staten Island      45\n",
       "Name: Borough, dtype: int64"
      ]
     },
     "execution_count": 6,
     "metadata": {},
     "output_type": "execute_result"
    }
   ],
   "source": [
    "df_rent['Borough'].value_counts()"
   ]
  },
  {
   "cell_type": "code",
   "execution_count": 7,
   "metadata": {
    "collapsed": false
   },
   "outputs": [
    {
     "data": {
      "text/plain": [
       "array(['Address', 'Architect', 'Baths', 'Beds', 'Bike Room',\n",
       "       'Building Amenities', 'Building Class', 'Built Year',\n",
       "       'Cats Only - No Dogs', 'Cats and Dogs Allowed',\n",
       "       \"Children's Playroom\", 'City', 'City Council', 'Cold Storage',\n",
       "       'Community', 'Community Recreation Facilities', 'Concierge',\n",
       "       'Crime', 'Deck', 'Developer', 'Doorman', 'Elevator',\n",
       "       'Full-time Doorman', 'Garage Parking', 'Garden', 'Green Building',\n",
       "       'Gym', 'Highlights', 'Hot Tub', 'Interiors', 'Land Lease',\n",
       "       'Laundry in Building', 'Live-in Super', 'Media Room',\n",
       "       'NYC Storm Zone 1', 'NYC Storm Zone 2', 'NYC Storm Zone 3',\n",
       "       'NYC Storm Zone 4', 'NYC Storm Zone 5', 'NYC Storm Zone 6',\n",
       "       'Package Room', 'Parking Available', 'Part-time Doorman', 'Patio',\n",
       "       'Pets Allowed', 'Police', 'Price', 'Roof Deck', 'School District',\n",
       "       'SchoolScore', 'Smoke-free', 'Sqft', 'State', 'Storage Available',\n",
       "       'Stories', 'Street', 'Swimming Pool', 'Transportation', 'Units',\n",
       "       'Valet', 'Valet Parking', 'Virtual Doorman', 'Waterfront',\n",
       "       'Zipcode', 'latitude', 'longitude', 'std_crime', 'age', 'age_sq',\n",
       "       'Stories_sq', 'Stories_cubed', 'travel_minutes', 'travel_km',\n",
       "       'central_park_border_km', 'washington_sq_km', 'tompkins_sq_km',\n",
       "       'travel_minutes_grand_central', 'travel_km_grand_central',\n",
       "       'Borough', 'Sqft_sq'], dtype=object)"
      ]
     },
     "execution_count": 7,
     "metadata": {},
     "output_type": "execute_result"
    }
   ],
   "source": [
    "df_rent.columns.values"
   ]
  },
  {
   "cell_type": "code",
   "execution_count": 8,
   "metadata": {
    "collapsed": true
   },
   "outputs": [],
   "source": [
    "df_rent_clean = df_rent.drop(['Architect', 'Building Amenities', 'Community', 'City Council', \n",
    "            'Developer', 'Highlights', 'Transportation', 'Street', 'State'], axis=1)\n",
    "df_rent_clean = df_rent_clean[df_rent_clean['Sqft'] < 60000]"
   ]
  },
  {
   "cell_type": "code",
   "execution_count": 9,
   "metadata": {
    "collapsed": false
   },
   "outputs": [],
   "source": [
    "df_rent_clean.to_csv('rent_clean_dataset.csv')"
   ]
  },
  {
   "cell_type": "code",
   "execution_count": 12,
   "metadata": {
    "collapsed": false
   },
   "outputs": [],
   "source": [
    "# store the predictor dataset for visualization in tableau\n",
    "df_rent_clean.to_excel('rent_visualization_data/rent_full_dataset.xlsx')"
   ]
  }
 ],
 "metadata": {
  "anaconda-cloud": {},
  "kernelspec": {
   "display_name": "Python [Root]",
   "language": "python",
   "name": "Python [Root]"
  },
  "language_info": {
   "codemirror_mode": {
    "name": "ipython",
    "version": 2
   },
   "file_extension": ".py",
   "mimetype": "text/x-python",
   "name": "python",
   "nbconvert_exporter": "python",
   "pygments_lexer": "ipython2",
   "version": "2.7.12"
  }
 },
 "nbformat": 4,
 "nbformat_minor": 0
}

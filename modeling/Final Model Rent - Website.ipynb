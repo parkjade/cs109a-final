{
 "cells": [
  {
   "cell_type": "code",
   "execution_count": 1,
   "metadata": {
    "collapsed": true
   },
   "outputs": [],
   "source": [
    "import pandas as pd\n",
    "import numpy as np\n",
    "from sklearn.ensemble import AdaBoostRegressor\n",
    "from sklearn.ensemble import RandomForestRegressor\n",
    "from sklearn.cross_validation import KFold\n",
    "from sklearn.linear_model import LinearRegression\n",
    "from sklearn.linear_model import Ridge\n",
    "from sklearn.linear_model import Lasso\n",
    "from sklearn import preprocessing\n",
    "from sklearn.cross_validation import train_test_split\n",
    "from sklearn.metrics import r2_score\n",
    "from sklearn.preprocessing import StandardScaler\n",
    "import matplotlib\n",
    "import matplotlib.pyplot as plt\n",
    "%matplotlib inline"
   ]
  },
  {
   "cell_type": "markdown",
   "metadata": {},
   "source": [
    "# Helper Functions for Analysis\n",
    "*Scroll down to 'Load and Visualize Data' for Primary Functions*"
   ]
  },
  {
   "cell_type": "code",
   "execution_count": 2,
   "metadata": {
    "collapsed": true
   },
   "outputs": [],
   "source": [
    "# Input: \n",
    "#      row (row of the column summary datframe)\n",
    "# Output: \n",
    "#      returns a tuple if continuous, otherwise the list of categoricals\n",
    "def get_continuous_min_max(row):\n",
    "    #print row\n",
    "    if row['predictor_type'] == 'Continuous':\n",
    "        value_range = np.array([value for value in row['value_range'] if str(value) != 'nan'])\n",
    "        return (value_range.min(), value_range.max())\n",
    "    else:\n",
    "        return row['value_range']\n",
    "    \n",
    "#--------  get_column_summary\n",
    "# A function that creates a dataframe summarizing the shape and composition of the data within each column\n",
    "# Input: \n",
    "#      df (dataframe to get column summary for)\n",
    "# Output: \n",
    "#      df_column_summary (dataframe with various components of each column)\n",
    "def get_column_summary(df):\n",
    "    # Create a dataframe of unique values, # of missing values, type, and value type for each predictor\n",
    "    df_column_summary = pd.DataFrame({})\n",
    "    df_column_summary['column_name'] = df.columns.values\n",
    "    df_column_summary['value_range'] = df_column_summary['column_name'].apply(lambda row: [value for value in df[row].unique() if value == value])\n",
    "    df_column_summary['null_values'] = df_column_summary['column_name'].apply(lambda row: df[row].isnull().sum())\n",
    "    df_column_summary['predictor_type'] = df_column_summary['column_name'].apply(lambda row: 'Categorical' if df[row].dtype == 'object' else 'Continuous')\n",
    "    df_column_summary['value_type'] = df_column_summary['column_name'].apply(lambda row: df[row].dtype)\n",
    "    df_column_summary['value_range'] = df_column_summary.apply(lambda row: get_continuous_min_max(row), axis = 1)\n",
    "    return df_column_summary"
   ]
  },
  {
   "cell_type": "code",
   "execution_count": 3,
   "metadata": {
    "collapsed": false
   },
   "outputs": [],
   "source": [
    "#--------  encode_variables\n",
    "# A function that encodes categorical variables\n",
    "# Input: \n",
    "#      df (dataframe to encode variables for)\n",
    "#      column_summary (dataframe summarizing the values for the columns in df)\n",
    "# Output: \n",
    "#      df (dataframe with encoded variables)\n",
    "def encode_variables(df, column_summary):\n",
    "    variables_to_encode = []\n",
    "    \n",
    "    # loop through all of the columns in the dataframe and encode if categorical\n",
    "    for column in df.columns.values:\n",
    "        \n",
    "        # check if variable is categorical\n",
    "        if column_summary[column_summary['column_name'] == column]['predictor_type'].values[0] == 'Categorical':\n",
    "            \n",
    "            #get the first categorical value\n",
    "            categorical_value = column_summary[column_summary['column_name'] == column]['value_range'].values[0][0]\n",
    "            \n",
    "            # if the variable is already binary, do not create a dummy variable, just encode numerically\n",
    "            if categorical_value == True or categorical_value == False:\n",
    "                df[column] = preprocessing.LabelEncoder().fit_transform(df[column])\n",
    "            else:\n",
    "                one_hot = pd.get_dummies(df[column])\n",
    "                df = df.drop(column, axis = 1)\n",
    "                df = df.join(one_hot)\n",
    "        \n",
    "    return df"
   ]
  },
  {
   "cell_type": "code",
   "execution_count": 4,
   "metadata": {
    "collapsed": false
   },
   "outputs": [],
   "source": [
    "#--------  ridge_lasso_cv\n",
    "# A function that tunes the regularization parameter for ridge and lasso regression using k-fold cross-validation\n",
    "# Input: \n",
    "#      x (predictor set)\n",
    "#      y (outcome_set)\n",
    "#      ridge_lasso (string indicating ridge or lasso regression)\n",
    "# Output: \n",
    "#      (table and graph of model performance by regularization paramter)\n",
    "def ridge_lasso_cv(x, y, ridge_lasso):\n",
    "    \n",
    "    # create a list of regularization parameters to use\n",
    "    lambda_min = -7\n",
    "    lambda_max = 7\n",
    "\n",
    "    num_lambdas = 15\n",
    "    lambdas = np.linspace(lambda_min, lambda_max, num_lambdas)\n",
    "    \n",
    "    # initalize array to store scores\n",
    "    scores = np.zeros((num_lambdas, 3))\n",
    "    \n",
    "    # initialize k-folds to iterate through\n",
    "    kf = KFold(x.shape[0], n_folds=7, shuffle=True)\n",
    "    \n",
    "    # loop through models using each regularization parameter in the list\n",
    "    for i, lmbda in enumerate(lambdas):\n",
    "        \n",
    "        # initialize ridge or lasso model\n",
    "        model = Ridge(alpha = 10.0**lmbda) if ridge_lasso == 'ridge' else Lasso(alpha = 10.0**lmbda)\n",
    "        individual_train_scores = []\n",
    "        individual_test_scores = []\n",
    "        \n",
    "        # fit and score the model on each fold\n",
    "        for train_index, test_index in kf:\n",
    "\n",
    "            x_train, x_test = x[train_index], x[test_index]\n",
    "            y_train, y_test = y[train_index], y[test_index]\n",
    "\n",
    "            model.fit(x_train, y_train)\n",
    "            \n",
    "            train_score = model.score(x_train, y_train)\n",
    "            individual_train_scores.append(train_score)\n",
    "            \n",
    "            test_score = model.score(x_test, y_test)\n",
    "            individual_test_scores.append(test_score)\n",
    "\n",
    "        # store the average model score for the regularization parameter in the array\n",
    "        scores[i, 0] = lmbda\n",
    "        scores[i, 1] = np.mean(individual_train_scores)\n",
    "        scores[i, 2] = np.mean(individual_test_scores)\n",
    "        \n",
    "        # print the average test score for the regularization parameter\n",
    "        print 'Regularization Parameter: 10^{0}; Score:{1:.4f}'.format(lmbda, np.mean(individual_test_scores))\n",
    "    \n",
    "    # plot the training and testing R^2s as a function of the regularization parameter\n",
    "    plt.figure(figsize=(10,10))\n",
    "    plt.semilogx([10**i for i in scores[:, 0]], scores[:, 1], 'r', label = 'training')\n",
    "    plt.semilogx([10**i for i in scores[:, 0]], scores[:, 2], 'b', label = 'testing')\n",
    "    plt.title('Ridge Regression Tuning Parameter Cross Validation')\n",
    "    plt.xlabel('Regularization Parameter')\n",
    "    plt.ylabel('R^2')  \n",
    "    plt.legend(loc='best')\n",
    "    plt.show()"
   ]
  },
  {
   "cell_type": "code",
   "execution_count": 5,
   "metadata": {
    "collapsed": true
   },
   "outputs": [],
   "source": [
    "#--------  rf_cv\n",
    "# A function that tunes the max subset of predictors for a random forest model using k-fold cross-validation\n",
    "# Input: \n",
    "#      x (predictor set)\n",
    "#      y (outcome_set)\n",
    "# Output: \n",
    "#      scores (array of both train and test scores for each subset of features)\n",
    "def rf_cv(x, y):\n",
    "    \n",
    "    # initialize a list of the subset of predictors, with the max as one less predictor than the total number of predictors\n",
    "    max_features = range(1, x.shape[1] + 1)\n",
    "    \n",
    "    # initalize array to store scores\n",
    "    scores = np.zeros((x.shape[1] + 1, 3))\n",
    "    \n",
    "    # initialize k-folds to iterate through\n",
    "    kf = KFold(x.shape[0], n_folds=7, shuffle=True)\n",
    "    \n",
    "    # loop through models using each subset of predictors in the list\n",
    "    for i, feature in enumerate(max_features):\n",
    "        \n",
    "        # initialize random forest model\n",
    "        rf = RandomForestRegressor(max_features = feature, n_estimators = 500)\n",
    "        \n",
    "        individual_train_scores = []\n",
    "        individual_test_scores = []\n",
    "        \n",
    "        # fit and score the model on each fold\n",
    "        for train_index, test_index in kf:\n",
    "\n",
    "            x_train, x_test = x[train_index], x[test_index]\n",
    "            y_train, y_test = y[train_index], y[test_index]\n",
    "\n",
    "            rf.fit(x_train, y_train)\n",
    "            \n",
    "            train_score = rf.score(x_train, y_train)\n",
    "            individual_train_scores.append(train_score)\n",
    "            \n",
    "            test_score = rf.score(x_test, y_test)\n",
    "            individual_test_scores.append(test_score)\n",
    "\n",
    "        # store the average model score for the regularization parameter in the array\n",
    "        scores[i, 0] = feature\n",
    "        scores[i, 1] = np.mean(individual_train_scores)\n",
    "        scores[i, 2] = np.mean(individual_test_scores)\n",
    "        \n",
    "        # print the average test score for the max subset of predictors\n",
    "        print 'Features:{0}; Score:{1:.4f}'.format(feature, np.mean(individual_test_scores))\n",
    "        \n",
    "    return scores"
   ]
  },
  {
   "cell_type": "code",
   "execution_count": 6,
   "metadata": {
    "collapsed": false
   },
   "outputs": [],
   "source": [
    "#--------  boosting_cv\n",
    "# A function that tunes the number of trees and learning rate for a boosting model using k-fold cross-validation\n",
    "# Input: \n",
    "#      x (predictor set)\n",
    "#      y (outcome_set)\n",
    "# Output: \n",
    "#      scores (array of both train and test scores for each subset of features)\n",
    "def boosting_cv(x, y):\n",
    "    \n",
    "    # initialize a list of number of trees and learning rates for cv\n",
    "    trees_validate = [10, 50, 100, 200]\n",
    "    learning_rates = [.001, .01, .1, .5, 1]\n",
    "    \n",
    "    # initialize list to store scores\n",
    "    scores = []\n",
    "    \n",
    "     # initialize k-folds to iterate throughs\n",
    "    kf = KFold(x.shape[0], n_folds=7, shuffle=True)\n",
    "\n",
    "    # loop through each number of trees in the validation list\n",
    "    for trees in trees_validate:\n",
    "        \n",
    "        # loop through each learning rate in the validation list \n",
    "        for rate in learning_rates:\n",
    "\n",
    "            boosting = AdaBoostRegressor(n_estimators = trees, learning_rate = rate)\n",
    "\n",
    "            for train_index, test_index in kf:\n",
    "\n",
    "                x_train, x_test = x[train_index], x[test_index]\n",
    "                y_train, y_test = y[train_index], y[test_index]\n",
    "\n",
    "                boosting.fit(x_train, y_train)\n",
    "                score = boosting.score(x_test, y_test)\n",
    "                scores.append(score)\n",
    "\n",
    "            print 'Trees:{0}; Learning Rate:{1}; Score:{2:.4f}'.format(trees, rate, np.mean(scores))"
   ]
  },
  {
   "cell_type": "code",
   "execution_count": 7,
   "metadata": {
    "collapsed": true
   },
   "outputs": [],
   "source": [
    "# this entire code block allows for the encoded boruough predictors to be reversed for use in tableau visualizations\n",
    "\n",
    "boroughs = ['Bronx', 'Brooklyn', 'New York','Queens', 'Staten Island']\n",
    "\n",
    "#--------  get_borough\n",
    "# A function that returns the borough for a record based on it's encoding\n",
    "# Input: \n",
    "#      row (record in a dataframe)\n",
    "# Output: \n",
    "#      borough (name of the borough)\n",
    "def get_borough(row):\n",
    "    for borough in boroughs:\n",
    "        if row[borough] == 1:\n",
    "            return borough\n",
    "\n",
    "#--------  reencode_borough\n",
    "# A function that creates a new dataframe column with the borough's name based on encoding\n",
    "# Input: \n",
    "#      df (dataframe to create column for)\n",
    "#      borough_array (array of boroughs with one hot encoding)\n",
    "# Output: \n",
    "#      df (dataframe with a column holding borough names)\n",
    "def reencode_borough(df, borough_array):\n",
    "    df_boroughs = pd.DataFrame(borough_array, columns = boroughs)\n",
    "    df['Borough'] = df_boroughs.apply(lambda row: get_borough(row), axis = 1)\n",
    "    return df"
   ]
  },
  {
   "cell_type": "code",
   "execution_count": 8,
   "metadata": {
    "collapsed": true
   },
   "outputs": [],
   "source": [
    "#--------  get_price_residuals\n",
    "# A function that calculates the standard price residuals for a model\n",
    "# Input: \n",
    "#      model (sklearn model that has already been fit to a set)\n",
    "#      x (array of predictors)\n",
    "#      y (array of outcomes to compare predictions to)\n",
    "#      log (binary indicating whether or not the outcome variable is a log transformation)\n",
    "# Output: \n",
    "#      residual_std (standardized price residual)\n",
    "def get_price_residuals(model, x, y, log):\n",
    "    y_pred = model.predict(x)\n",
    "    if log: # if the variable is a log transformation, first convert it back\n",
    "        y_pred = np.exp(y_pred)\n",
    "    residual = y_pred - y\n",
    "    residual_std = residual / y\n",
    "    return y_pred, residual_std"
   ]
  },
  {
   "cell_type": "code",
   "execution_count": 9,
   "metadata": {
    "collapsed": true
   },
   "outputs": [],
   "source": [
    "#--------  get_residual_df\n",
    "# A function that creates a dataframe with predictors, outcomes, and residuals\n",
    "# Input: \n",
    "#      model (sklearn model that has already been fit to a set)\n",
    "#      x (array of predictors, excluding encoded boroughs)\n",
    "#      boroughs (array of encoded boroughs)\n",
    "#      y (array of outcomes to compare predictions to)\n",
    "#      y_pred (array of predicted outcomes)\n",
    "#      residuals (array of residuals)\n",
    "#      column_names (list of predictor names, excluding boroughs)\n",
    "# Output: \n",
    "#      df (dataframe holding predictors, outcomes, and residuals)\n",
    "def get_residual_df(x, boroughs, y, y_pred, residuals, column_names):\n",
    "    data = np.concatenate((x, y.reshape(-1, 1), y_pred.reshape(-1, 1),\n",
    "                                      residuals.reshape(-1,1)), axis = 1)\n",
    "    column_names = list(column_names) + ['price', 'price_pred', 'residual']\n",
    "    df = pd.DataFrame(data, columns = column_names)\n",
    "    df = reencode_borough(df, boroughs)\n",
    "    return df"
   ]
  },
  {
   "cell_type": "code",
   "execution_count": 10,
   "metadata": {
    "collapsed": true
   },
   "outputs": [],
   "source": [
    "#--------  model_data_to_excel\n",
    "# A function that writes a dataframe with predictors, outcomes, and residuals to excel\n",
    "# Input: \n",
    "#      model (sklearn model that has already been fit to a set)\n",
    "#      x_pred (array of predictors used to fit the model)\n",
    "#      x (array of predictors for all models)\n",
    "#      y (array of outcomes)\n",
    "#      log (binary indicating whether or not the outcome variable is a log transformation)\n",
    "#      df_full (dataframe containing both predictors and outcomes)\n",
    "#      filename (name of the file to save to)\n",
    "def model_data_to_excel(model, x_pred, x, y, log, df_full, filename):\n",
    "    y_pred, residuals = get_price_residuals(model, x_pred, y, log)\n",
    "    df = get_residual_df(x[:, :18], x[:, 18:], y, y_pred, residuals, df_full.columns.values[1:19])\n",
    "    df.to_excel('rent_visualization_data/{0}.xlsx'.format(filename))"
   ]
  },
  {
   "cell_type": "markdown",
   "metadata": {},
   "source": [
    "# Load and Visualize Data"
   ]
  },
  {
   "cell_type": "code",
   "execution_count": 11,
   "metadata": {
    "collapsed": true
   },
   "outputs": [],
   "source": [
    "# load the dataset\n",
    "df_rent_clean = pd.read_csv('rent_clean_dataset.csv')"
   ]
  },
  {
   "cell_type": "code",
   "execution_count": 12,
   "metadata": {
    "collapsed": false,
    "scrolled": false
   },
   "outputs": [
    {
     "data": {
      "text/html": [
       "<div>\n",
       "<table border=\"1\" class=\"dataframe\">\n",
       "  <thead>\n",
       "    <tr style=\"text-align: right;\">\n",
       "      <th></th>\n",
       "      <th>column_name</th>\n",
       "      <th>value_range</th>\n",
       "      <th>null_values</th>\n",
       "      <th>predictor_type</th>\n",
       "      <th>value_type</th>\n",
       "    </tr>\n",
       "  </thead>\n",
       "  <tbody>\n",
       "    <tr>\n",
       "      <th>0</th>\n",
       "      <td>Unnamed: 0</td>\n",
       "      <td>(0, 12754)</td>\n",
       "      <td>0</td>\n",
       "      <td>Continuous</td>\n",
       "      <td>int64</td>\n",
       "    </tr>\n",
       "    <tr>\n",
       "      <th>1</th>\n",
       "      <td>Address</td>\n",
       "      <td>[15 Park Row #11D, 15 Park Row #20D, 15 Park R...</td>\n",
       "      <td>0</td>\n",
       "      <td>Categorical</td>\n",
       "      <td>object</td>\n",
       "    </tr>\n",
       "    <tr>\n",
       "      <th>2</th>\n",
       "      <td>Baths</td>\n",
       "      <td>(1.0, 11.0)</td>\n",
       "      <td>7</td>\n",
       "      <td>Continuous</td>\n",
       "      <td>float64</td>\n",
       "    </tr>\n",
       "    <tr>\n",
       "      <th>3</th>\n",
       "      <td>Beds</td>\n",
       "      <td>(1.0, 8.0)</td>\n",
       "      <td>656</td>\n",
       "      <td>Continuous</td>\n",
       "      <td>float64</td>\n",
       "    </tr>\n",
       "    <tr>\n",
       "      <th>4</th>\n",
       "      <td>Bike Room</td>\n",
       "      <td>[False, True]</td>\n",
       "      <td>1002</td>\n",
       "      <td>Categorical</td>\n",
       "      <td>object</td>\n",
       "    </tr>\n",
       "    <tr>\n",
       "      <th>5</th>\n",
       "      <td>Building Class</td>\n",
       "      <td>[RM, D5, D2, D8, D7, R1, L9, C7, RX, S4, K4, C...</td>\n",
       "      <td>1068</td>\n",
       "      <td>Categorical</td>\n",
       "      <td>object</td>\n",
       "    </tr>\n",
       "    <tr>\n",
       "      <th>6</th>\n",
       "      <td>Built Year</td>\n",
       "      <td>(1836, 2016)</td>\n",
       "      <td>0</td>\n",
       "      <td>Continuous</td>\n",
       "      <td>int64</td>\n",
       "    </tr>\n",
       "    <tr>\n",
       "      <th>7</th>\n",
       "      <td>Cats Only - No Dogs</td>\n",
       "      <td>[False, True]</td>\n",
       "      <td>2085</td>\n",
       "      <td>Categorical</td>\n",
       "      <td>object</td>\n",
       "    </tr>\n",
       "    <tr>\n",
       "      <th>8</th>\n",
       "      <td>Cats and Dogs Allowed</td>\n",
       "      <td>[False, True]</td>\n",
       "      <td>2085</td>\n",
       "      <td>Categorical</td>\n",
       "      <td>object</td>\n",
       "    </tr>\n",
       "    <tr>\n",
       "      <th>9</th>\n",
       "      <td>Children's Playroom</td>\n",
       "      <td>[False, True]</td>\n",
       "      <td>1002</td>\n",
       "      <td>Categorical</td>\n",
       "      <td>object</td>\n",
       "    </tr>\n",
       "    <tr>\n",
       "      <th>10</th>\n",
       "      <td>City</td>\n",
       "      <td>[ New York,  Brooklyn,  East Williamsburg,  Lo...</td>\n",
       "      <td>0</td>\n",
       "      <td>Categorical</td>\n",
       "      <td>object</td>\n",
       "    </tr>\n",
       "    <tr>\n",
       "      <th>11</th>\n",
       "      <td>Cold Storage</td>\n",
       "      <td>[False, True]</td>\n",
       "      <td>1002</td>\n",
       "      <td>Categorical</td>\n",
       "      <td>object</td>\n",
       "    </tr>\n",
       "    <tr>\n",
       "      <th>12</th>\n",
       "      <td>Community Recreation Facilities</td>\n",
       "      <td>[False, True]</td>\n",
       "      <td>1002</td>\n",
       "      <td>Categorical</td>\n",
       "      <td>object</td>\n",
       "    </tr>\n",
       "    <tr>\n",
       "      <th>13</th>\n",
       "      <td>Concierge</td>\n",
       "      <td>[False, True]</td>\n",
       "      <td>1002</td>\n",
       "      <td>Categorical</td>\n",
       "      <td>object</td>\n",
       "    </tr>\n",
       "    <tr>\n",
       "      <th>14</th>\n",
       "      <td>Crime</td>\n",
       "      <td>(381, 3573)</td>\n",
       "      <td>0</td>\n",
       "      <td>Continuous</td>\n",
       "      <td>int64</td>\n",
       "    </tr>\n",
       "    <tr>\n",
       "      <th>15</th>\n",
       "      <td>Deck</td>\n",
       "      <td>[False, True]</td>\n",
       "      <td>1002</td>\n",
       "      <td>Categorical</td>\n",
       "      <td>object</td>\n",
       "    </tr>\n",
       "    <tr>\n",
       "      <th>16</th>\n",
       "      <td>Doorman</td>\n",
       "      <td>[True, False]</td>\n",
       "      <td>2085</td>\n",
       "      <td>Categorical</td>\n",
       "      <td>object</td>\n",
       "    </tr>\n",
       "    <tr>\n",
       "      <th>17</th>\n",
       "      <td>Elevator</td>\n",
       "      <td>[True, False]</td>\n",
       "      <td>2085</td>\n",
       "      <td>Categorical</td>\n",
       "      <td>object</td>\n",
       "    </tr>\n",
       "    <tr>\n",
       "      <th>18</th>\n",
       "      <td>Full-time Doorman</td>\n",
       "      <td>[False, True]</td>\n",
       "      <td>2085</td>\n",
       "      <td>Categorical</td>\n",
       "      <td>object</td>\n",
       "    </tr>\n",
       "    <tr>\n",
       "      <th>19</th>\n",
       "      <td>Garage Parking</td>\n",
       "      <td>[False, True]</td>\n",
       "      <td>1002</td>\n",
       "      <td>Categorical</td>\n",
       "      <td>object</td>\n",
       "    </tr>\n",
       "    <tr>\n",
       "      <th>20</th>\n",
       "      <td>Garden</td>\n",
       "      <td>[False, True]</td>\n",
       "      <td>1002</td>\n",
       "      <td>Categorical</td>\n",
       "      <td>object</td>\n",
       "    </tr>\n",
       "    <tr>\n",
       "      <th>21</th>\n",
       "      <td>Green Building</td>\n",
       "      <td>[False, True]</td>\n",
       "      <td>1002</td>\n",
       "      <td>Categorical</td>\n",
       "      <td>object</td>\n",
       "    </tr>\n",
       "    <tr>\n",
       "      <th>22</th>\n",
       "      <td>Gym</td>\n",
       "      <td>[False, True]</td>\n",
       "      <td>1002</td>\n",
       "      <td>Categorical</td>\n",
       "      <td>object</td>\n",
       "    </tr>\n",
       "    <tr>\n",
       "      <th>23</th>\n",
       "      <td>Hot Tub</td>\n",
       "      <td>[False, True]</td>\n",
       "      <td>1002</td>\n",
       "      <td>Categorical</td>\n",
       "      <td>object</td>\n",
       "    </tr>\n",
       "    <tr>\n",
       "      <th>24</th>\n",
       "      <td>Interiors</td>\n",
       "      <td>[Tsao &amp; McKown, Cetra/Ruddy, Rockwell Group, A...</td>\n",
       "      <td>4985</td>\n",
       "      <td>Categorical</td>\n",
       "      <td>object</td>\n",
       "    </tr>\n",
       "    <tr>\n",
       "      <th>25</th>\n",
       "      <td>Land Lease</td>\n",
       "      <td>[False, True]</td>\n",
       "      <td>2085</td>\n",
       "      <td>Categorical</td>\n",
       "      <td>object</td>\n",
       "    </tr>\n",
       "    <tr>\n",
       "      <th>26</th>\n",
       "      <td>Laundry in Building</td>\n",
       "      <td>[True, False]</td>\n",
       "      <td>1002</td>\n",
       "      <td>Categorical</td>\n",
       "      <td>object</td>\n",
       "    </tr>\n",
       "    <tr>\n",
       "      <th>27</th>\n",
       "      <td>Live-in Super</td>\n",
       "      <td>[True, False]</td>\n",
       "      <td>1002</td>\n",
       "      <td>Categorical</td>\n",
       "      <td>object</td>\n",
       "    </tr>\n",
       "    <tr>\n",
       "      <th>28</th>\n",
       "      <td>Media Room</td>\n",
       "      <td>[False, True]</td>\n",
       "      <td>1002</td>\n",
       "      <td>Categorical</td>\n",
       "      <td>object</td>\n",
       "    </tr>\n",
       "    <tr>\n",
       "      <th>29</th>\n",
       "      <td>NYC Storm Zone 1</td>\n",
       "      <td>[False, True]</td>\n",
       "      <td>1002</td>\n",
       "      <td>Categorical</td>\n",
       "      <td>object</td>\n",
       "    </tr>\n",
       "    <tr>\n",
       "      <th>...</th>\n",
       "      <td>...</td>\n",
       "      <td>...</td>\n",
       "      <td>...</td>\n",
       "      <td>...</td>\n",
       "      <td>...</td>\n",
       "    </tr>\n",
       "    <tr>\n",
       "      <th>42</th>\n",
       "      <td>Roof Deck</td>\n",
       "      <td>[False, True]</td>\n",
       "      <td>1002</td>\n",
       "      <td>Categorical</td>\n",
       "      <td>object</td>\n",
       "    </tr>\n",
       "    <tr>\n",
       "      <th>43</th>\n",
       "      <td>School District</td>\n",
       "      <td>[District 2, District 14, District 13, Distric...</td>\n",
       "      <td>0</td>\n",
       "      <td>Categorical</td>\n",
       "      <td>object</td>\n",
       "    </tr>\n",
       "    <tr>\n",
       "      <th>44</th>\n",
       "      <td>SchoolScore</td>\n",
       "      <td>(-1.3828, 2.397)</td>\n",
       "      <td>0</td>\n",
       "      <td>Continuous</td>\n",
       "      <td>float64</td>\n",
       "    </tr>\n",
       "    <tr>\n",
       "      <th>45</th>\n",
       "      <td>Smoke-free</td>\n",
       "      <td>[False, True]</td>\n",
       "      <td>1002</td>\n",
       "      <td>Categorical</td>\n",
       "      <td>object</td>\n",
       "    </tr>\n",
       "    <tr>\n",
       "      <th>46</th>\n",
       "      <td>Sqft</td>\n",
       "      <td>(200.0, 12173.0)</td>\n",
       "      <td>0</td>\n",
       "      <td>Continuous</td>\n",
       "      <td>float64</td>\n",
       "    </tr>\n",
       "    <tr>\n",
       "      <th>47</th>\n",
       "      <td>Storage Available</td>\n",
       "      <td>[False, True]</td>\n",
       "      <td>1002</td>\n",
       "      <td>Categorical</td>\n",
       "      <td>object</td>\n",
       "    </tr>\n",
       "    <tr>\n",
       "      <th>48</th>\n",
       "      <td>Stories</td>\n",
       "      <td>(1, 96)</td>\n",
       "      <td>0</td>\n",
       "      <td>Continuous</td>\n",
       "      <td>int64</td>\n",
       "    </tr>\n",
       "    <tr>\n",
       "      <th>49</th>\n",
       "      <td>Swimming Pool</td>\n",
       "      <td>[False, True]</td>\n",
       "      <td>1002</td>\n",
       "      <td>Categorical</td>\n",
       "      <td>object</td>\n",
       "    </tr>\n",
       "    <tr>\n",
       "      <th>50</th>\n",
       "      <td>Units</td>\n",
       "      <td>(1, 904)</td>\n",
       "      <td>0</td>\n",
       "      <td>Continuous</td>\n",
       "      <td>int64</td>\n",
       "    </tr>\n",
       "    <tr>\n",
       "      <th>51</th>\n",
       "      <td>Valet</td>\n",
       "      <td>[False, True]</td>\n",
       "      <td>1002</td>\n",
       "      <td>Categorical</td>\n",
       "      <td>object</td>\n",
       "    </tr>\n",
       "    <tr>\n",
       "      <th>52</th>\n",
       "      <td>Valet Parking</td>\n",
       "      <td>[False, True]</td>\n",
       "      <td>1002</td>\n",
       "      <td>Categorical</td>\n",
       "      <td>object</td>\n",
       "    </tr>\n",
       "    <tr>\n",
       "      <th>53</th>\n",
       "      <td>Virtual Doorman</td>\n",
       "      <td>[False, True]</td>\n",
       "      <td>1002</td>\n",
       "      <td>Categorical</td>\n",
       "      <td>object</td>\n",
       "    </tr>\n",
       "    <tr>\n",
       "      <th>54</th>\n",
       "      <td>Waterfront</td>\n",
       "      <td>[False, True]</td>\n",
       "      <td>1002</td>\n",
       "      <td>Categorical</td>\n",
       "      <td>object</td>\n",
       "    </tr>\n",
       "    <tr>\n",
       "      <th>55</th>\n",
       "      <td>Zipcode</td>\n",
       "      <td>(10001, 11436)</td>\n",
       "      <td>0</td>\n",
       "      <td>Continuous</td>\n",
       "      <td>int64</td>\n",
       "    </tr>\n",
       "    <tr>\n",
       "      <th>56</th>\n",
       "      <td>latitude</td>\n",
       "      <td>(40.503841, 40.90861)</td>\n",
       "      <td>0</td>\n",
       "      <td>Continuous</td>\n",
       "      <td>float64</td>\n",
       "    </tr>\n",
       "    <tr>\n",
       "      <th>57</th>\n",
       "      <td>longitude</td>\n",
       "      <td>(-74.2448217, -73.7077149)</td>\n",
       "      <td>0</td>\n",
       "      <td>Continuous</td>\n",
       "      <td>float64</td>\n",
       "    </tr>\n",
       "    <tr>\n",
       "      <th>58</th>\n",
       "      <td>std_crime</td>\n",
       "      <td>(-1.67167623081, 3.66396782753)</td>\n",
       "      <td>0</td>\n",
       "      <td>Continuous</td>\n",
       "      <td>float64</td>\n",
       "    </tr>\n",
       "    <tr>\n",
       "      <th>59</th>\n",
       "      <td>age</td>\n",
       "      <td>(0, 180)</td>\n",
       "      <td>0</td>\n",
       "      <td>Continuous</td>\n",
       "      <td>int64</td>\n",
       "    </tr>\n",
       "    <tr>\n",
       "      <th>60</th>\n",
       "      <td>age_sq</td>\n",
       "      <td>(0, 32400)</td>\n",
       "      <td>0</td>\n",
       "      <td>Continuous</td>\n",
       "      <td>int64</td>\n",
       "    </tr>\n",
       "    <tr>\n",
       "      <th>61</th>\n",
       "      <td>Stories_sq</td>\n",
       "      <td>(1, 9216)</td>\n",
       "      <td>0</td>\n",
       "      <td>Continuous</td>\n",
       "      <td>int64</td>\n",
       "    </tr>\n",
       "    <tr>\n",
       "      <th>62</th>\n",
       "      <td>Stories_cubed</td>\n",
       "      <td>(1, 884736)</td>\n",
       "      <td>0</td>\n",
       "      <td>Continuous</td>\n",
       "      <td>int64</td>\n",
       "    </tr>\n",
       "    <tr>\n",
       "      <th>63</th>\n",
       "      <td>travel_minutes</td>\n",
       "      <td>(0.55, 43.93)</td>\n",
       "      <td>0</td>\n",
       "      <td>Continuous</td>\n",
       "      <td>float64</td>\n",
       "    </tr>\n",
       "    <tr>\n",
       "      <th>64</th>\n",
       "      <td>travel_km</td>\n",
       "      <td>(0.079, 43.876)</td>\n",
       "      <td>0</td>\n",
       "      <td>Continuous</td>\n",
       "      <td>float64</td>\n",
       "    </tr>\n",
       "    <tr>\n",
       "      <th>65</th>\n",
       "      <td>central_park_border_km</td>\n",
       "      <td>(0.030861531009, 36.8466449211)</td>\n",
       "      <td>0</td>\n",
       "      <td>Continuous</td>\n",
       "      <td>float64</td>\n",
       "    </tr>\n",
       "    <tr>\n",
       "      <th>66</th>\n",
       "      <td>washington_sq_km</td>\n",
       "      <td>(0.200922775125, 32.7593561396)</td>\n",
       "      <td>0</td>\n",
       "      <td>Continuous</td>\n",
       "      <td>float64</td>\n",
       "    </tr>\n",
       "    <tr>\n",
       "      <th>67</th>\n",
       "      <td>tompkins_sq_km</td>\n",
       "      <td>(0.167751861781, 33.2628978892)</td>\n",
       "      <td>0</td>\n",
       "      <td>Continuous</td>\n",
       "      <td>float64</td>\n",
       "    </tr>\n",
       "    <tr>\n",
       "      <th>68</th>\n",
       "      <td>travel_minutes_grand_central</td>\n",
       "      <td>(1.3, 52.47)</td>\n",
       "      <td>0</td>\n",
       "      <td>Continuous</td>\n",
       "      <td>float64</td>\n",
       "    </tr>\n",
       "    <tr>\n",
       "      <th>69</th>\n",
       "      <td>travel_km_grand_central</td>\n",
       "      <td>(0.309, 51.97)</td>\n",
       "      <td>0</td>\n",
       "      <td>Continuous</td>\n",
       "      <td>float64</td>\n",
       "    </tr>\n",
       "    <tr>\n",
       "      <th>70</th>\n",
       "      <td>Borough</td>\n",
       "      <td>[Manhattan, Brooklyn, Queens, Bronx, Staten Is...</td>\n",
       "      <td>0</td>\n",
       "      <td>Categorical</td>\n",
       "      <td>object</td>\n",
       "    </tr>\n",
       "    <tr>\n",
       "      <th>71</th>\n",
       "      <td>Sqft_sq</td>\n",
       "      <td>(40000.0, 148181929.0)</td>\n",
       "      <td>0</td>\n",
       "      <td>Continuous</td>\n",
       "      <td>float64</td>\n",
       "    </tr>\n",
       "  </tbody>\n",
       "</table>\n",
       "<p>72 rows × 5 columns</p>\n",
       "</div>"
      ],
      "text/plain": [
       "                        column_name  \\\n",
       "0                        Unnamed: 0   \n",
       "1                           Address   \n",
       "2                             Baths   \n",
       "3                              Beds   \n",
       "4                         Bike Room   \n",
       "5                    Building Class   \n",
       "6                        Built Year   \n",
       "7               Cats Only - No Dogs   \n",
       "8             Cats and Dogs Allowed   \n",
       "9               Children's Playroom   \n",
       "10                             City   \n",
       "11                     Cold Storage   \n",
       "12  Community Recreation Facilities   \n",
       "13                        Concierge   \n",
       "14                            Crime   \n",
       "15                             Deck   \n",
       "16                          Doorman   \n",
       "17                         Elevator   \n",
       "18                Full-time Doorman   \n",
       "19                   Garage Parking   \n",
       "20                           Garden   \n",
       "21                   Green Building   \n",
       "22                              Gym   \n",
       "23                          Hot Tub   \n",
       "24                        Interiors   \n",
       "25                       Land Lease   \n",
       "26              Laundry in Building   \n",
       "27                    Live-in Super   \n",
       "28                       Media Room   \n",
       "29                 NYC Storm Zone 1   \n",
       "..                              ...   \n",
       "42                        Roof Deck   \n",
       "43                  School District   \n",
       "44                      SchoolScore   \n",
       "45                       Smoke-free   \n",
       "46                             Sqft   \n",
       "47                Storage Available   \n",
       "48                          Stories   \n",
       "49                    Swimming Pool   \n",
       "50                            Units   \n",
       "51                            Valet   \n",
       "52                    Valet Parking   \n",
       "53                  Virtual Doorman   \n",
       "54                       Waterfront   \n",
       "55                          Zipcode   \n",
       "56                         latitude   \n",
       "57                        longitude   \n",
       "58                        std_crime   \n",
       "59                              age   \n",
       "60                           age_sq   \n",
       "61                       Stories_sq   \n",
       "62                    Stories_cubed   \n",
       "63                   travel_minutes   \n",
       "64                        travel_km   \n",
       "65           central_park_border_km   \n",
       "66                 washington_sq_km   \n",
       "67                   tompkins_sq_km   \n",
       "68     travel_minutes_grand_central   \n",
       "69          travel_km_grand_central   \n",
       "70                          Borough   \n",
       "71                          Sqft_sq   \n",
       "\n",
       "                                          value_range  null_values  \\\n",
       "0                                          (0, 12754)            0   \n",
       "1   [15 Park Row #11D, 15 Park Row #20D, 15 Park R...            0   \n",
       "2                                         (1.0, 11.0)            7   \n",
       "3                                          (1.0, 8.0)          656   \n",
       "4                                       [False, True]         1002   \n",
       "5   [RM, D5, D2, D8, D7, R1, L9, C7, RX, S4, K4, C...         1068   \n",
       "6                                        (1836, 2016)            0   \n",
       "7                                       [False, True]         2085   \n",
       "8                                       [False, True]         2085   \n",
       "9                                       [False, True]         1002   \n",
       "10  [ New York,  Brooklyn,  East Williamsburg,  Lo...            0   \n",
       "11                                      [False, True]         1002   \n",
       "12                                      [False, True]         1002   \n",
       "13                                      [False, True]         1002   \n",
       "14                                        (381, 3573)            0   \n",
       "15                                      [False, True]         1002   \n",
       "16                                      [True, False]         2085   \n",
       "17                                      [True, False]         2085   \n",
       "18                                      [False, True]         2085   \n",
       "19                                      [False, True]         1002   \n",
       "20                                      [False, True]         1002   \n",
       "21                                      [False, True]         1002   \n",
       "22                                      [False, True]         1002   \n",
       "23                                      [False, True]         1002   \n",
       "24  [Tsao & McKown, Cetra/Ruddy, Rockwell Group, A...         4985   \n",
       "25                                      [False, True]         2085   \n",
       "26                                      [True, False]         1002   \n",
       "27                                      [True, False]         1002   \n",
       "28                                      [False, True]         1002   \n",
       "29                                      [False, True]         1002   \n",
       "..                                                ...          ...   \n",
       "42                                      [False, True]         1002   \n",
       "43  [District 2, District 14, District 13, Distric...            0   \n",
       "44                                   (-1.3828, 2.397)            0   \n",
       "45                                      [False, True]         1002   \n",
       "46                                   (200.0, 12173.0)            0   \n",
       "47                                      [False, True]         1002   \n",
       "48                                            (1, 96)            0   \n",
       "49                                      [False, True]         1002   \n",
       "50                                           (1, 904)            0   \n",
       "51                                      [False, True]         1002   \n",
       "52                                      [False, True]         1002   \n",
       "53                                      [False, True]         1002   \n",
       "54                                      [False, True]         1002   \n",
       "55                                     (10001, 11436)            0   \n",
       "56                              (40.503841, 40.90861)            0   \n",
       "57                         (-74.2448217, -73.7077149)            0   \n",
       "58                    (-1.67167623081, 3.66396782753)            0   \n",
       "59                                           (0, 180)            0   \n",
       "60                                         (0, 32400)            0   \n",
       "61                                          (1, 9216)            0   \n",
       "62                                        (1, 884736)            0   \n",
       "63                                      (0.55, 43.93)            0   \n",
       "64                                    (0.079, 43.876)            0   \n",
       "65                    (0.030861531009, 36.8466449211)            0   \n",
       "66                    (0.200922775125, 32.7593561396)            0   \n",
       "67                    (0.167751861781, 33.2628978892)            0   \n",
       "68                                       (1.3, 52.47)            0   \n",
       "69                                     (0.309, 51.97)            0   \n",
       "70  [Manhattan, Brooklyn, Queens, Bronx, Staten Is...            0   \n",
       "71                             (40000.0, 148181929.0)            0   \n",
       "\n",
       "   predictor_type value_type  \n",
       "0      Continuous      int64  \n",
       "1     Categorical     object  \n",
       "2      Continuous    float64  \n",
       "3      Continuous    float64  \n",
       "4     Categorical     object  \n",
       "5     Categorical     object  \n",
       "6      Continuous      int64  \n",
       "7     Categorical     object  \n",
       "8     Categorical     object  \n",
       "9     Categorical     object  \n",
       "10    Categorical     object  \n",
       "11    Categorical     object  \n",
       "12    Categorical     object  \n",
       "13    Categorical     object  \n",
       "14     Continuous      int64  \n",
       "15    Categorical     object  \n",
       "16    Categorical     object  \n",
       "17    Categorical     object  \n",
       "18    Categorical     object  \n",
       "19    Categorical     object  \n",
       "20    Categorical     object  \n",
       "21    Categorical     object  \n",
       "22    Categorical     object  \n",
       "23    Categorical     object  \n",
       "24    Categorical     object  \n",
       "25    Categorical     object  \n",
       "26    Categorical     object  \n",
       "27    Categorical     object  \n",
       "28    Categorical     object  \n",
       "29    Categorical     object  \n",
       "..            ...        ...  \n",
       "42    Categorical     object  \n",
       "43    Categorical     object  \n",
       "44     Continuous    float64  \n",
       "45    Categorical     object  \n",
       "46     Continuous    float64  \n",
       "47    Categorical     object  \n",
       "48     Continuous      int64  \n",
       "49    Categorical     object  \n",
       "50     Continuous      int64  \n",
       "51    Categorical     object  \n",
       "52    Categorical     object  \n",
       "53    Categorical     object  \n",
       "54    Categorical     object  \n",
       "55     Continuous      int64  \n",
       "56     Continuous    float64  \n",
       "57     Continuous    float64  \n",
       "58     Continuous    float64  \n",
       "59     Continuous      int64  \n",
       "60     Continuous      int64  \n",
       "61     Continuous      int64  \n",
       "62     Continuous      int64  \n",
       "63     Continuous    float64  \n",
       "64     Continuous    float64  \n",
       "65     Continuous    float64  \n",
       "66     Continuous    float64  \n",
       "67     Continuous    float64  \n",
       "68     Continuous    float64  \n",
       "69     Continuous    float64  \n",
       "70    Categorical     object  \n",
       "71     Continuous    float64  \n",
       "\n",
       "[72 rows x 5 columns]"
      ]
     },
     "execution_count": 12,
     "metadata": {},
     "output_type": "execute_result"
    }
   ],
   "source": [
    "# get a summary of all predictors in the dataset\n",
    "column_summary = get_column_summary(df_rent_clean)\n",
    "column_summary"
   ]
  },
  {
   "cell_type": "markdown",
   "metadata": {},
   "source": [
    "# Variable Selection"
   ]
  },
  {
   "cell_type": "code",
   "execution_count": 13,
   "metadata": {
    "collapsed": false,
    "scrolled": false
   },
   "outputs": [
    {
     "name": "stdout",
     "output_type": "stream",
     "text": [
      "(4737, 20)\n",
      "(4737, 24)\n"
     ]
    },
    {
     "data": {
      "text/html": [
       "<div>\n",
       "<table border=\"1\" class=\"dataframe\">\n",
       "  <thead>\n",
       "    <tr style=\"text-align: right;\">\n",
       "      <th></th>\n",
       "      <th>column_name</th>\n",
       "      <th>value_range</th>\n",
       "      <th>null_values</th>\n",
       "      <th>predictor_type</th>\n",
       "      <th>value_type</th>\n",
       "    </tr>\n",
       "  </thead>\n",
       "  <tbody>\n",
       "    <tr>\n",
       "      <th>0</th>\n",
       "      <td>Price</td>\n",
       "      <td>(1200, 100000)</td>\n",
       "      <td>0</td>\n",
       "      <td>Continuous</td>\n",
       "      <td>int64</td>\n",
       "    </tr>\n",
       "    <tr>\n",
       "      <th>1</th>\n",
       "      <td>Beds</td>\n",
       "      <td>(1.0, 8.0)</td>\n",
       "      <td>0</td>\n",
       "      <td>Continuous</td>\n",
       "      <td>float64</td>\n",
       "    </tr>\n",
       "    <tr>\n",
       "      <th>2</th>\n",
       "      <td>Baths</td>\n",
       "      <td>(1.0, 11.0)</td>\n",
       "      <td>0</td>\n",
       "      <td>Continuous</td>\n",
       "      <td>float64</td>\n",
       "    </tr>\n",
       "    <tr>\n",
       "      <th>3</th>\n",
       "      <td>Sqft</td>\n",
       "      <td>(300.0, 12173.0)</td>\n",
       "      <td>0</td>\n",
       "      <td>Continuous</td>\n",
       "      <td>float64</td>\n",
       "    </tr>\n",
       "    <tr>\n",
       "      <th>4</th>\n",
       "      <td>Stories</td>\n",
       "      <td>(1, 96)</td>\n",
       "      <td>0</td>\n",
       "      <td>Continuous</td>\n",
       "      <td>int64</td>\n",
       "    </tr>\n",
       "    <tr>\n",
       "      <th>5</th>\n",
       "      <td>Units</td>\n",
       "      <td>(1, 904)</td>\n",
       "      <td>0</td>\n",
       "      <td>Continuous</td>\n",
       "      <td>int64</td>\n",
       "    </tr>\n",
       "    <tr>\n",
       "      <th>6</th>\n",
       "      <td>age</td>\n",
       "      <td>(0, 180)</td>\n",
       "      <td>0</td>\n",
       "      <td>Continuous</td>\n",
       "      <td>int64</td>\n",
       "    </tr>\n",
       "    <tr>\n",
       "      <th>7</th>\n",
       "      <td>latitude</td>\n",
       "      <td>(40.503841, 40.90861)</td>\n",
       "      <td>0</td>\n",
       "      <td>Continuous</td>\n",
       "      <td>float64</td>\n",
       "    </tr>\n",
       "    <tr>\n",
       "      <th>8</th>\n",
       "      <td>longitude</td>\n",
       "      <td>(-74.2448217, -73.7077149)</td>\n",
       "      <td>0</td>\n",
       "      <td>Continuous</td>\n",
       "      <td>float64</td>\n",
       "    </tr>\n",
       "    <tr>\n",
       "      <th>9</th>\n",
       "      <td>SchoolScore</td>\n",
       "      <td>(-1.3828, 2.397)</td>\n",
       "      <td>0</td>\n",
       "      <td>Continuous</td>\n",
       "      <td>float64</td>\n",
       "    </tr>\n",
       "    <tr>\n",
       "      <th>10</th>\n",
       "      <td>std_crime</td>\n",
       "      <td>(-1.67167623081, 3.66396782753)</td>\n",
       "      <td>0</td>\n",
       "      <td>Continuous</td>\n",
       "      <td>float64</td>\n",
       "    </tr>\n",
       "    <tr>\n",
       "      <th>11</th>\n",
       "      <td>travel_minutes</td>\n",
       "      <td>(0.55, 43.93)</td>\n",
       "      <td>0</td>\n",
       "      <td>Continuous</td>\n",
       "      <td>float64</td>\n",
       "    </tr>\n",
       "    <tr>\n",
       "      <th>12</th>\n",
       "      <td>travel_km</td>\n",
       "      <td>(0.079, 43.876)</td>\n",
       "      <td>0</td>\n",
       "      <td>Continuous</td>\n",
       "      <td>float64</td>\n",
       "    </tr>\n",
       "    <tr>\n",
       "      <th>13</th>\n",
       "      <td>central_park_border_km</td>\n",
       "      <td>(0.030861531009, 36.8466449211)</td>\n",
       "      <td>0</td>\n",
       "      <td>Continuous</td>\n",
       "      <td>float64</td>\n",
       "    </tr>\n",
       "    <tr>\n",
       "      <th>14</th>\n",
       "      <td>washington_sq_km</td>\n",
       "      <td>(0.200922775125, 32.7593561396)</td>\n",
       "      <td>0</td>\n",
       "      <td>Continuous</td>\n",
       "      <td>float64</td>\n",
       "    </tr>\n",
       "    <tr>\n",
       "      <th>15</th>\n",
       "      <td>tompkins_sq_km</td>\n",
       "      <td>(0.167751861781, 33.2628978892)</td>\n",
       "      <td>0</td>\n",
       "      <td>Continuous</td>\n",
       "      <td>float64</td>\n",
       "    </tr>\n",
       "    <tr>\n",
       "      <th>16</th>\n",
       "      <td>travel_minutes_grand_central</td>\n",
       "      <td>(1.3, 52.47)</td>\n",
       "      <td>0</td>\n",
       "      <td>Continuous</td>\n",
       "      <td>float64</td>\n",
       "    </tr>\n",
       "    <tr>\n",
       "      <th>17</th>\n",
       "      <td>travel_km_grand_central</td>\n",
       "      <td>(0.309, 51.97)</td>\n",
       "      <td>0</td>\n",
       "      <td>Continuous</td>\n",
       "      <td>float64</td>\n",
       "    </tr>\n",
       "    <tr>\n",
       "      <th>18</th>\n",
       "      <td>Sqft_sq</td>\n",
       "      <td>(90000.0, 148181929.0)</td>\n",
       "      <td>0</td>\n",
       "      <td>Continuous</td>\n",
       "      <td>float64</td>\n",
       "    </tr>\n",
       "    <tr>\n",
       "      <th>19</th>\n",
       "      <td>Bronx</td>\n",
       "      <td>(0.0, 1.0)</td>\n",
       "      <td>0</td>\n",
       "      <td>Continuous</td>\n",
       "      <td>float64</td>\n",
       "    </tr>\n",
       "    <tr>\n",
       "      <th>20</th>\n",
       "      <td>Brooklyn</td>\n",
       "      <td>(0.0, 1.0)</td>\n",
       "      <td>0</td>\n",
       "      <td>Continuous</td>\n",
       "      <td>float64</td>\n",
       "    </tr>\n",
       "    <tr>\n",
       "      <th>21</th>\n",
       "      <td>Manhattan</td>\n",
       "      <td>(0.0, 1.0)</td>\n",
       "      <td>0</td>\n",
       "      <td>Continuous</td>\n",
       "      <td>float64</td>\n",
       "    </tr>\n",
       "    <tr>\n",
       "      <th>22</th>\n",
       "      <td>Queens</td>\n",
       "      <td>(0.0, 1.0)</td>\n",
       "      <td>0</td>\n",
       "      <td>Continuous</td>\n",
       "      <td>float64</td>\n",
       "    </tr>\n",
       "    <tr>\n",
       "      <th>23</th>\n",
       "      <td>Staten Island</td>\n",
       "      <td>(0.0, 1.0)</td>\n",
       "      <td>0</td>\n",
       "      <td>Continuous</td>\n",
       "      <td>float64</td>\n",
       "    </tr>\n",
       "  </tbody>\n",
       "</table>\n",
       "</div>"
      ],
      "text/plain": [
       "                     column_name                      value_range  \\\n",
       "0                          Price                   (1200, 100000)   \n",
       "1                           Beds                       (1.0, 8.0)   \n",
       "2                          Baths                      (1.0, 11.0)   \n",
       "3                           Sqft                 (300.0, 12173.0)   \n",
       "4                        Stories                          (1, 96)   \n",
       "5                          Units                         (1, 904)   \n",
       "6                            age                         (0, 180)   \n",
       "7                       latitude            (40.503841, 40.90861)   \n",
       "8                      longitude       (-74.2448217, -73.7077149)   \n",
       "9                    SchoolScore                 (-1.3828, 2.397)   \n",
       "10                     std_crime  (-1.67167623081, 3.66396782753)   \n",
       "11                travel_minutes                    (0.55, 43.93)   \n",
       "12                     travel_km                  (0.079, 43.876)   \n",
       "13        central_park_border_km  (0.030861531009, 36.8466449211)   \n",
       "14              washington_sq_km  (0.200922775125, 32.7593561396)   \n",
       "15                tompkins_sq_km  (0.167751861781, 33.2628978892)   \n",
       "16  travel_minutes_grand_central                     (1.3, 52.47)   \n",
       "17       travel_km_grand_central                   (0.309, 51.97)   \n",
       "18                       Sqft_sq           (90000.0, 148181929.0)   \n",
       "19                         Bronx                       (0.0, 1.0)   \n",
       "20                      Brooklyn                       (0.0, 1.0)   \n",
       "21                     Manhattan                       (0.0, 1.0)   \n",
       "22                        Queens                       (0.0, 1.0)   \n",
       "23                 Staten Island                       (0.0, 1.0)   \n",
       "\n",
       "    null_values predictor_type value_type  \n",
       "0             0     Continuous      int64  \n",
       "1             0     Continuous    float64  \n",
       "2             0     Continuous    float64  \n",
       "3             0     Continuous    float64  \n",
       "4             0     Continuous      int64  \n",
       "5             0     Continuous      int64  \n",
       "6             0     Continuous      int64  \n",
       "7             0     Continuous    float64  \n",
       "8             0     Continuous    float64  \n",
       "9             0     Continuous    float64  \n",
       "10            0     Continuous    float64  \n",
       "11            0     Continuous    float64  \n",
       "12            0     Continuous    float64  \n",
       "13            0     Continuous    float64  \n",
       "14            0     Continuous    float64  \n",
       "15            0     Continuous    float64  \n",
       "16            0     Continuous    float64  \n",
       "17            0     Continuous    float64  \n",
       "18            0     Continuous    float64  \n",
       "19            0     Continuous    float64  \n",
       "20            0     Continuous    float64  \n",
       "21            0     Continuous    float64  \n",
       "22            0     Continuous    float64  \n",
       "23            0     Continuous    float64  "
      ]
     },
     "execution_count": 13,
     "metadata": {},
     "output_type": "execute_result"
    }
   ],
   "source": [
    "# choose columns to use in models and drop records with null values\n",
    "columns_to_use = ['Price', 'Beds', 'Baths', 'Sqft', 'Stories', 'Units', 'age', 'Borough',\n",
    "                  'latitude', 'longitude', 'SchoolScore', 'std_crime', 'travel_minutes', 'travel_km',\n",
    "                  'central_park_border_km', 'washington_sq_km', 'tompkins_sq_km',\n",
    "                  'travel_minutes_grand_central', 'travel_km_grand_central', 'Sqft_sq']\n",
    "df_for_model = df_rent_clean[columns_to_use].dropna()\n",
    "print df_for_model.shape\n",
    "\n",
    "# encode categorical variables and get the column summary to confirm\n",
    "df_for_model = encode_variables(df_for_model, column_summary)\n",
    "print df_for_model.shape\n",
    "column_summary = get_column_summary(df_for_model)\n",
    "column_summary.to_csv('model_variable_summary.csv')\n",
    "column_summary"
   ]
  },
  {
   "cell_type": "code",
   "execution_count": 14,
   "metadata": {
    "collapsed": false
   },
   "outputs": [],
   "source": [
    "# create numpy arrays from dataframe for use in models\n",
    "values = df_for_model.values\n",
    "x = values[:, 1:]\n",
    "y = values[:, 0]"
   ]
  },
  {
   "cell_type": "code",
   "execution_count": 15,
   "metadata": {
    "collapsed": false
   },
   "outputs": [],
   "source": [
    "# split the data into training and testing sets\n",
    "x_train, x_test, y_train, y_test = train_test_split(x, y, test_size=0.4, random_state=42)\n",
    "\n",
    "# create arrays of the natural log of the price\n",
    "y_train_log = np.log(y_train)\n",
    "y_test_log = np.log(y_test)"
   ]
  },
  {
   "cell_type": "markdown",
   "metadata": {},
   "source": [
    "# Base Model"
   ]
  },
  {
   "cell_type": "markdown",
   "metadata": {},
   "source": [
    "*Base Model - Price*"
   ]
  },
  {
   "cell_type": "code",
   "execution_count": 16,
   "metadata": {
    "collapsed": false
   },
   "outputs": [
    {
     "name": "stdout",
     "output_type": "stream",
     "text": [
      "Train Score: 0.6817\n",
      "Test Score: 0.5842\n"
     ]
    }
   ],
   "source": [
    "# fit and score linear regression model using square feet as the only predictor\n",
    "x_train_base = x_train[:, 2].reshape(-1, 1)\n",
    "x_test_base = x_test[:, 2].reshape(-1, 1)\n",
    "LinReg = LinearRegression()\n",
    "LinReg.fit(x_train_base, y_train)\n",
    "\n",
    "print 'Train Score: {0:.4f}'.format(LinReg.score(x_train_base, y_train))\n",
    "print 'Test Score: {0:.4f}'.format(LinReg.score(x_test_base, y_test))"
   ]
  },
  {
   "cell_type": "code",
   "execution_count": 17,
   "metadata": {
    "collapsed": false
   },
   "outputs": [],
   "source": [
    "# write data to excel for tableau visualizations\n",
    "model_data_to_excel(LinReg, x_train_base, x_train, y_train, False, df_for_model, 'base_train_no_log')\n",
    "model_data_to_excel(LinReg, x_test_base, x_test, y_test, False, df_for_model, 'base_test_no_log')"
   ]
  },
  {
   "cell_type": "markdown",
   "metadata": {},
   "source": [
    "*Base Model - Log Price*"
   ]
  },
  {
   "cell_type": "code",
   "execution_count": 18,
   "metadata": {
    "collapsed": false
   },
   "outputs": [
    {
     "name": "stdout",
     "output_type": "stream",
     "text": [
      "Train Score: -70.4547\n",
      "Test Score: -44.1205\n"
     ]
    }
   ],
   "source": [
    "# fit and score regression model using the log of square feet as the only predictor\n",
    "# note that the we convert predictions back to the actual price before calculating the r2\n",
    "LinRegLog = LinearRegression()\n",
    "LinRegLog.fit(x_train_base, y_train_log)\n",
    "\n",
    "print 'Train Score: {0:.4f}'.format(r2_score(y_train, np.exp(LinRegLog.predict(x_train_base))))\n",
    "print 'Test Score: {0:.4f}'.format(r2_score(y_test, np.exp(LinRegLog.predict(x_test_base))))"
   ]
  },
  {
   "cell_type": "code",
   "execution_count": 19,
   "metadata": {
    "collapsed": false
   },
   "outputs": [],
   "source": [
    "# write data to excel for tableau visualizations\n",
    "model_data_to_excel(LinRegLog, x_train_base, x_train, y_train_log, True, df_for_model, 'base_train_log')\n",
    "model_data_to_excel(LinRegLog, x_test_base, x_test, y_test_log, True, df_for_model, 'base_test_log')"
   ]
  },
  {
   "cell_type": "markdown",
   "metadata": {},
   "source": [
    "# Ridge Regression"
   ]
  },
  {
   "cell_type": "code",
   "execution_count": 20,
   "metadata": {
    "collapsed": true
   },
   "outputs": [],
   "source": [
    "# standardize variables for ridge and lasso regressions\n",
    "scaler = StandardScaler(with_mean = False)\n",
    "x_train_scaled = scaler.fit_transform(x_train)\n",
    "x_test_scaled = x_test / scaler.scale_"
   ]
  },
  {
   "cell_type": "markdown",
   "metadata": {},
   "source": [
    "*Ridge Regression - Price*"
   ]
  },
  {
   "cell_type": "code",
   "execution_count": 21,
   "metadata": {
    "collapsed": false
   },
   "outputs": [
    {
     "name": "stdout",
     "output_type": "stream",
     "text": [
      "Regularization Parameter: 10^-7.0; Score:0.7532\n",
      "Regularization Parameter: 10^-6.0; Score:0.7532\n",
      "Regularization Parameter: 10^-5.0; Score:0.7532\n",
      "Regularization Parameter: 10^-4.0; Score:0.7532\n",
      "Regularization Parameter: 10^-3.0; Score:0.7532\n",
      "Regularization Parameter: 10^-2.0; Score:0.7532\n",
      "Regularization Parameter: 10^-1.0; Score:0.7532\n",
      "Regularization Parameter: 10^0.0; Score:0.7532\n",
      "Regularization Parameter: 10^1.0; Score:0.7529\n",
      "Regularization Parameter: 10^2.0; Score:0.7520\n",
      "Regularization Parameter: 10^3.0; Score:0.7339\n",
      "Regularization Parameter: 10^4.0; Score:0.5103\n",
      "Regularization Parameter: 10^5.0; Score:0.1117\n",
      "Regularization Parameter: 10^6.0; Score:0.0117\n",
      "Regularization Parameter: 10^7.0; Score:0.0002\n"
     ]
    },
    {
     "data": {
      "image/png": "[encoded data removed]",
      "text/plain": [
       "<matplotlib.figure.Figure at 0xbd4d8d0>"
      ]
     },
     "metadata": {},
     "output_type": "display_data"
    }
   ],
   "source": [
    "# tune parameter for ridge regression through cross validations\n",
    "ridge_lasso_cv(x_train_scaled, y_train, 'ridge')"
   ]
  },
  {
   "cell_type": "code",
   "execution_count": 54,
   "metadata": {
    "collapsed": false
   },
   "outputs": [
    {
     "name": "stdout",
     "output_type": "stream",
     "text": [
      "Train Score: 0.7477\n",
      "Test Score: 0.6864\n"
     ]
    }
   ],
   "source": [
    "# fit and score ridge regression to predict price\n",
    "ridge = Ridge(alpha = 10.0**0)\n",
    "ridge.fit(x_train_scaled, y_train)\n",
    "print 'Train Score: {0:.4f}'.format(ridge.score(x_train_scaled, y_train))\n",
    "print 'Test Score: {0:.4f}'.format(ridge.score(x_test_scaled, y_test))"
   ]
  },
  {
   "cell_type": "code",
   "execution_count": 60,
   "metadata": {
    "collapsed": false
   },
   "outputs": [],
   "source": [
    "# write data to excel for tableau visualizations\n",
    "model_data_to_excel(ridge, x_train_scaled, x_train, y_train, False, df_for_model, 'ridge_train_no_log')\n",
    "model_data_to_excel(ridge, x_test_scaled, x_test, y_test, False, df_for_model, 'ridge_test_no_log')"
   ]
  },
  {
   "cell_type": "markdown",
   "metadata": {},
   "source": [
    "*Ridge Regression - Log Price*"
   ]
  },
  {
   "cell_type": "code",
   "execution_count": 24,
   "metadata": {
    "collapsed": false
   },
   "outputs": [
    {
     "name": "stdout",
     "output_type": "stream",
     "text": [
      "Regularization Parameter: 10^-7.0; Score:0.8579\n",
      "Regularization Parameter: 10^-6.0; Score:0.8579\n",
      "Regularization Parameter: 10^-5.0; Score:0.8579\n",
      "Regularization Parameter: 10^-4.0; Score:0.8579\n",
      "Regularization Parameter: 10^-3.0; Score:0.8579\n",
      "Regularization Parameter: 10^-2.0; Score:0.8579\n",
      "Regularization Parameter: 10^-1.0; Score:0.8579\n",
      "Regularization Parameter: 10^0.0; Score:0.8578\n",
      "Regularization Parameter: 10^1.0; Score:0.8555\n",
      "Regularization Parameter: 10^2.0; Score:0.8429\n",
      "Regularization Parameter: 10^3.0; Score:0.7860\n",
      "Regularization Parameter: 10^4.0; Score:0.5619\n",
      "Regularization Parameter: 10^5.0; Score:0.1371\n",
      "Regularization Parameter: 10^6.0; Score:0.0117\n",
      "Regularization Parameter: 10^7.0; Score:-0.0033\n"
     ]
    },
    {
     "data": {
      "image/png": "[encoded data removed]",
      "text/plain": [
       "<matplotlib.figure.Figure at 0xc6346d8>"
      ]
     },
     "metadata": {},
     "output_type": "display_data"
    }
   ],
   "source": [
    "# tune parameter for ridge regression through cross validations\n",
    "ridge_lasso_cv(x_train_scaled, y_train_log, 'ridge')"
   ]
  },
  {
   "cell_type": "code",
   "execution_count": 55,
   "metadata": {
    "collapsed": false
   },
   "outputs": [
    {
     "name": "stdout",
     "output_type": "stream",
     "text": [
      "Train Score: 0.6721\n",
      "Test Score: 0.6840\n"
     ]
    }
   ],
   "source": [
    "# fit and score ridge regression to predict log price\n",
    "ridgeLog = Ridge(alpha = 10.0**-1)\n",
    "ridgeLog.fit(x_train_scaled, y_train_log)\n",
    "\n",
    "print 'Train Score: {0:.4f}'.format(r2_score(y_train, np.exp(ridgeLog.predict(x_train_scaled))))\n",
    "print 'Test Score: {0:.4f}'.format(r2_score(y_test, np.exp(ridgeLog.predict(x_test_scaled))))"
   ]
  },
  {
   "cell_type": "code",
   "execution_count": 59,
   "metadata": {
    "collapsed": false
   },
   "outputs": [],
   "source": [
    "# write data to excel for tableau visualizations\n",
    "model_data_to_excel(ridgeLog, x_train_scaled, x_train, y_train, True, df_for_model, 'ridge_train_log')\n",
    "model_data_to_excel(ridgeLog, x_test_scaled, x_test, y_test, True, df_for_model, 'ridge_test_log')"
   ]
  },
  {
   "cell_type": "markdown",
   "metadata": {},
   "source": [
    "# Lasso"
   ]
  },
  {
   "cell_type": "markdown",
   "metadata": {},
   "source": [
    "*Lasso - Price*"
   ]
  },
  {
   "cell_type": "code",
   "execution_count": 28,
   "metadata": {
    "collapsed": false
   },
   "outputs": [
    {
     "name": "stderr",
     "output_type": "stream",
     "text": [
      "C:\\Users\\Ihsaan Patel\\Anaconda2\\lib\\site-packages\\sklearn\\linear_model\\coordinate_descent.py:466: ConvergenceWarning: Objective did not converge. You might want to increase the number of iterations\n",
      "  ConvergenceWarning)\n"
     ]
    },
    {
     "name": "stdout",
     "output_type": "stream",
     "text": [
      "Regularization Parameter: 10^-7.0; Score:0.7315\n",
      "Regularization Parameter: 10^-6.0; Score:0.7315\n",
      "Regularization Parameter: 10^-5.0; Score:0.7315\n",
      "Regularization Parameter: 10^-4.0; Score:0.7315\n",
      "Regularization Parameter: 10^-3.0; Score:0.7315\n",
      "Regularization Parameter: 10^-2.0; Score:0.7315\n",
      "Regularization Parameter: 10^-1.0; Score:0.7315\n",
      "Regularization Parameter: 10^0.0; Score:0.7316\n",
      "Regularization Parameter: 10^1.0; Score:0.7308\n",
      "Regularization Parameter: 10^2.0; Score:0.7280\n",
      "Regularization Parameter: 10^3.0; Score:0.6923\n",
      "Regularization Parameter: 10^4.0; Score:-0.0040\n",
      "Regularization Parameter: 10^5.0; Score:-0.0040\n",
      "Regularization Parameter: 10^6.0; Score:-0.0040\n",
      "Regularization Parameter: 10^7.0; Score:-0.0040\n"
     ]
    },
    {
     "data": {
      "image/png": "[encoded data removed]",
      "text/plain": [
       "<matplotlib.figure.Figure at 0xcc59dd8>"
      ]
     },
     "metadata": {},
     "output_type": "display_data"
    }
   ],
   "source": [
    "# tune parameter for lasso regression through cross validations\n",
    "ridge_lasso_cv(x_train_scaled, y_train, 'lasso')"
   ]
  },
  {
   "cell_type": "code",
   "execution_count": 56,
   "metadata": {
    "collapsed": false
   },
   "outputs": [
    {
     "name": "stdout",
     "output_type": "stream",
     "text": [
      "Train Score: 0.7477\n",
      "Test Score: 0.6864\n"
     ]
    }
   ],
   "source": [
    "# fit and score lasso regression to predict price\n",
    "lasso = Lasso(alpha = 10.0**0)\n",
    "lasso.fit(x_train_scaled, y_train)\n",
    "print 'Train Score: {0:.4f}'.format(lasso.score(x_train_scaled, y_train))\n",
    "print 'Test Score: {0:.4f}'.format(lasso.score(x_test_scaled, y_test))"
   ]
  },
  {
   "cell_type": "code",
   "execution_count": 57,
   "metadata": {
    "collapsed": false
   },
   "outputs": [
    {
     "name": "stdout",
     "output_type": "stream",
     "text": [
      "Zero Coefficient Predictors:\n",
      "central_park_border_km\n",
      "Brooklyn\n"
     ]
    }
   ],
   "source": [
    "# iterate through predictors and print those whose coefficients are zeros\n",
    "print 'Zero Coefficient Predictors:'\n",
    "for i, coef in enumerate(lasso.coef_):\n",
    "    if coef == 0:\n",
    "        print df_for_model.columns.values[i + 1]"
   ]
  },
  {
   "cell_type": "code",
   "execution_count": 58,
   "metadata": {
    "collapsed": false
   },
   "outputs": [],
   "source": [
    "# write data to excel for tableau visualizations\n",
    "model_data_to_excel(lasso, x_train_scaled, x_train, y_train, False, df_for_model, 'lasso_train_no_log')\n",
    "model_data_to_excel(lasso, x_test_scaled, x_test, y_test, False, df_for_model, 'lasso_test_no_log')"
   ]
  },
  {
   "cell_type": "markdown",
   "metadata": {},
   "source": [
    "*Lasso - Log Price*"
   ]
  },
  {
   "cell_type": "code",
   "execution_count": 32,
   "metadata": {
    "collapsed": false,
    "scrolled": false
   },
   "outputs": [
    {
     "name": "stdout",
     "output_type": "stream",
     "text": [
      "Regularization Parameter: 10^-7.0; Score:0.8612\n",
      "Regularization Parameter: 10^-6.0; Score:0.8612\n",
      "Regularization Parameter: 10^-5.0; Score:0.8612\n",
      "Regularization Parameter: 10^-4.0; Score:0.8611\n",
      "Regularization Parameter: 10^-3.0; Score:0.8593\n",
      "Regularization Parameter: 10^-2.0; Score:0.8482\n",
      "Regularization Parameter: 10^-1.0; Score:0.7419\n",
      "Regularization Parameter: 10^0.0; Score:-0.0030\n",
      "Regularization Parameter: 10^1.0; Score:-0.0030\n",
      "Regularization Parameter: 10^2.0; Score:-0.0030\n",
      "Regularization Parameter: 10^3.0; Score:-0.0030\n",
      "Regularization Parameter: 10^4.0; Score:-0.0030\n",
      "Regularization Parameter: 10^5.0; Score:-0.0030\n",
      "Regularization Parameter: 10^6.0; Score:-0.0030\n",
      "Regularization Parameter: 10^7.0; Score:-0.0030\n"
     ]
    },
    {
     "data": {
      "image/png": "[encoded data removed]",
      "text/plain": [
       "<matplotlib.figure.Figure at 0xcc4d908>"
      ]
     },
     "metadata": {},
     "output_type": "display_data"
    }
   ],
   "source": [
    "# tune parameter for lasso regression through cross validations\n",
    "ridge_lasso_cv(x_train_scaled, y_train_log, 'lasso')"
   ]
  },
  {
   "cell_type": "code",
   "execution_count": 76,
   "metadata": {
    "collapsed": false
   },
   "outputs": [
    {
     "name": "stdout",
     "output_type": "stream",
     "text": [
      "Train Score: 0.6721\n",
      "Test Score: 0.6839\n"
     ]
    }
   ],
   "source": [
    "# fit and score lasso regression to predict log price\n",
    "lassoLog = Lasso(alpha = 10.0**-5)\n",
    "lassoLog.fit(x_train_scaled, y_train_log)\n",
    "\n",
    "print 'Train Score: {0:.4f}'.format(r2_score(y_train, np.exp(lassoLog.predict(x_train_scaled))))\n",
    "print 'Test Score: {0:.4f}'.format(r2_score(y_test, np.exp(lassoLog.predict(x_test_scaled))))"
   ]
  },
  {
   "cell_type": "code",
   "execution_count": 77,
   "metadata": {
    "collapsed": false
   },
   "outputs": [
    {
     "name": "stdout",
     "output_type": "stream",
     "text": [
      "Zero Coefficient Predictors:\n"
     ]
    }
   ],
   "source": [
    "# iterate through predictors and print those whose coefficients are zeros\n",
    "print 'Zero Coefficient Predictors:'\n",
    "for i, coef in enumerate(lassoLog.coef_):\n",
    "    if coef == 0:\n",
    "        print df_for_model.columns.values[i + 1]"
   ]
  },
  {
   "cell_type": "code",
   "execution_count": 78,
   "metadata": {
    "collapsed": false
   },
   "outputs": [],
   "source": [
    "# write data to excel for tableau visualizations\n",
    "model_data_to_excel(lassoLog, x_train_scaled, x_train, y_train, True, df_for_model, 'lasso_train_log')\n",
    "model_data_to_excel(lassoLog, x_test_scaled, x_test,y_test, True, df_for_model, 'lasso_test_log')"
   ]
  },
  {
   "cell_type": "markdown",
   "metadata": {},
   "source": [
    "# Boosting"
   ]
  },
  {
   "cell_type": "markdown",
   "metadata": {},
   "source": [
    "*Boosting - Price*"
   ]
  },
  {
   "cell_type": "code",
   "execution_count": 38,
   "metadata": {
    "collapsed": false
   },
   "outputs": [
    {
     "name": "stdout",
     "output_type": "stream",
     "text": [
      "Trees:10; Learning Rate:0.001; Score:0.6929\n",
      "Trees:10; Learning Rate:0.01; Score:0.7058\n",
      "Trees:10; Learning Rate:0.1; Score:0.7061\n",
      "Trees:10; Learning Rate:0.5; Score:0.6860\n",
      "Trees:10; Learning Rate:1; Score:0.6819\n",
      "Trees:50; Learning Rate:0.001; Score:0.6878\n",
      "Trees:50; Learning Rate:0.01; Score:0.6895\n",
      "Trees:50; Learning Rate:0.1; Score:0.6781\n",
      "Trees:50; Learning Rate:0.5; Score:0.6716\n",
      "Trees:50; Learning Rate:1; Score:0.6472\n",
      "Trees:100; Learning Rate:0.001; Score:0.6540\n",
      "Trees:100; Learning Rate:0.01; Score:0.6601\n",
      "Trees:100; Learning Rate:0.1; Score:0.6566\n",
      "Trees:100; Learning Rate:0.5; Score:0.6382\n",
      "Trees:100; Learning Rate:1; Score:0.6059\n",
      "Trees:200; Learning Rate:0.001; Score:0.6132\n",
      "Trees:200; Learning Rate:0.01; Score:0.6169\n",
      "Trees:200; Learning Rate:0.1; Score:0.6183\n",
      "Trees:200; Learning Rate:0.5; Score:0.6003\n",
      "Trees:200; Learning Rate:1; Score:0.5691\n"
     ]
    }
   ],
   "source": [
    "# tune parameters for boosting through cross validation\n",
    "boosting_cv(x_train, y_train)"
   ]
  },
  {
   "cell_type": "code",
   "execution_count": 62,
   "metadata": {
    "collapsed": false
   },
   "outputs": [
    {
     "name": "stdout",
     "output_type": "stream",
     "text": [
      "Train Score: 0.7879\n",
      "Test Score: 0.6907\n"
     ]
    }
   ],
   "source": [
    "# fit and score boosting to predict price\n",
    "boosting = AdaBoostRegressor(n_estimators = 10, learning_rate = .1)\n",
    "boosting.fit(x_train, y_train)\n",
    "print 'Train Score: {0:.4f}'.format(boosting.score(x_train, y_train))\n",
    "print 'Test Score: {0:.4f}'.format(boosting.score(x_test, y_test))"
   ]
  },
  {
   "cell_type": "code",
   "execution_count": 63,
   "metadata": {
    "collapsed": true
   },
   "outputs": [],
   "source": [
    "# write data to excel for tableau visualizations\n",
    "model_data_to_excel(boosting, x_train, x_train, y_train, False, df_for_model, 'boosting_train_no_log')\n",
    "model_data_to_excel(boosting, x_test, x_test, y_test, False, df_for_model, 'boosting_test_no_log')"
   ]
  },
  {
   "cell_type": "markdown",
   "metadata": {},
   "source": [
    "*Boosting- Log Price*"
   ]
  },
  {
   "cell_type": "code",
   "execution_count": 41,
   "metadata": {
    "collapsed": false
   },
   "outputs": [
    {
     "name": "stdout",
     "output_type": "stream",
     "text": [
      "Trees:10; Learning Rate:0.001; Score:0.7745\n",
      "Trees:10; Learning Rate:0.01; Score:0.7742\n",
      "Trees:10; Learning Rate:0.1; Score:0.7751\n",
      "Trees:10; Learning Rate:0.5; Score:0.7821\n",
      "Trees:10; Learning Rate:1; Score:0.7868\n",
      "Trees:50; Learning Rate:0.001; Score:0.7845\n",
      "Trees:50; Learning Rate:0.01; Score:0.7835\n",
      "Trees:50; Learning Rate:0.1; Score:0.7870\n",
      "Trees:50; Learning Rate:0.5; Score:0.7904\n",
      "Trees:50; Learning Rate:1; Score:0.7925\n",
      "Trees:100; Learning Rate:0.001; Score:0.7909\n",
      "Trees:100; Learning Rate:0.01; Score:0.7904\n",
      "Trees:100; Learning Rate:0.1; Score:0.7927\n",
      "Trees:100; Learning Rate:0.5; Score:0.7939\n",
      "Trees:100; Learning Rate:1; Score:0.7942\n",
      "Trees:200; Learning Rate:0.001; Score:0.7930\n",
      "Trees:200; Learning Rate:0.01; Score:0.7933\n",
      "Trees:200; Learning Rate:0.1; Score:0.7950\n",
      "Trees:200; Learning Rate:0.5; Score:0.7954\n",
      "Trees:200; Learning Rate:1; Score:0.7953\n"
     ]
    }
   ],
   "source": [
    "# tune parameters for boosting through cross validation\n",
    "boosting_cv(x_train, y_train_log)"
   ]
  },
  {
   "cell_type": "code",
   "execution_count": 64,
   "metadata": {
    "collapsed": false
   },
   "outputs": [
    {
     "name": "stdout",
     "output_type": "stream",
     "text": [
      "Train Score: 0.8314\n",
      "Test Score: 0.7492\n"
     ]
    }
   ],
   "source": [
    "# fit and score boosting to predict log price\n",
    "boostingLog = AdaBoostRegressor(n_estimators = 200, learning_rate = 1)\n",
    "boostingLog.fit(x_train, y_train_log)\n",
    "\n",
    "print 'Train Score: {0:.4f}'.format(r2_score(y_train, np.exp(boostingLog.predict(x_train))))\n",
    "print 'Test Score: {0:.4f}'.format(r2_score(y_test, np.exp(boostingLog.predict(x_test))))"
   ]
  },
  {
   "cell_type": "code",
   "execution_count": 65,
   "metadata": {
    "collapsed": true
   },
   "outputs": [],
   "source": [
    "# write data to excel for tableau visualizations\n",
    "model_data_to_excel(boostingLog, x_train, x_train, y_train, True, df_for_model, 'boosting_train_log')\n",
    "model_data_to_excel(boostingLog, x_test, x_test, y_test, True, df_for_model, 'boosting_test_log')"
   ]
  },
  {
   "cell_type": "markdown",
   "metadata": {},
   "source": [
    "# Random Forest"
   ]
  },
  {
   "cell_type": "markdown",
   "metadata": {},
   "source": [
    "*Random Forest - Price*"
   ]
  },
  {
   "cell_type": "code",
   "execution_count": 44,
   "metadata": {
    "collapsed": false
   },
   "outputs": [
    {
     "name": "stdout",
     "output_type": "stream",
     "text": [
      "Features:1; Score:0.7549\n",
      "Features:2; Score:0.7801\n",
      "Features:3; Score:0.7845\n",
      "Features:4; Score:0.7849\n",
      "Features:5; Score:0.7830\n",
      "Features:6; Score:0.7801\n",
      "Features:7; Score:0.7771\n",
      "Features:8; Score:0.7755\n",
      "Features:9; Score:0.7739\n",
      "Features:10; Score:0.7722\n",
      "Features:11; Score:0.7712\n",
      "Features:12; Score:0.7691\n",
      "Features:13; Score:0.7667\n",
      "Features:14; Score:0.7687\n",
      "Features:15; Score:0.7703\n",
      "Features:16; Score:0.7691\n",
      "Features:17; Score:0.7671\n",
      "Features:18; Score:0.7635\n",
      "Features:19; Score:0.7640\n",
      "Features:20; Score:0.7639\n",
      "Features:21; Score:0.7609\n",
      "Features:22; Score:0.7576\n",
      "Features:23; Score:0.7532\n"
     ]
    }
   ],
   "source": [
    "# tune parameters for random forest through cross validation\n",
    "cv_scores = rf_cv(x_train, y_train)"
   ]
  },
  {
   "cell_type": "code",
   "execution_count": 66,
   "metadata": {
    "collapsed": false
   },
   "outputs": [
    {
     "name": "stdout",
     "output_type": "stream",
     "text": [
      "Train Score: 0.9729\n",
      "Test Score: 0.8220\n"
     ]
    }
   ],
   "source": [
    "# fit and score random forest to predict price\n",
    "rf = RandomForestRegressor(max_features = 4, n_estimators = 500)\n",
    "rf.fit(x_train, y_train)\n",
    "print 'Train Score: {0:.4f}'.format(rf.score(x_train, y_train))\n",
    "print 'Test Score: {0:.4f}'.format(rf.score(x_test, y_test))"
   ]
  },
  {
   "cell_type": "code",
   "execution_count": 67,
   "metadata": {
    "collapsed": true
   },
   "outputs": [],
   "source": [
    "# write data to excel for tableau visualizations\n",
    "model_data_to_excel(rf, x_train, x_train, y_train, False, df_for_model, 'rf_train_no_log')\n",
    "model_data_to_excel(rf, x_test, x_test, y_test, False, df_for_model, 'rf_test_no_log')"
   ]
  },
  {
   "cell_type": "code",
   "execution_count": 74,
   "metadata": {
    "collapsed": false
   },
   "outputs": [
    {
     "data": {
      "image/png": "[encoded data removed]",
      "text/plain": [
       "<matplotlib.figure.Figure at 0xbf8b940>"
      ]
     },
     "metadata": {},
     "output_type": "display_data"
    }
   ],
   "source": [
    "# get feature importance scores in the random forest model\n",
    "importances = rf.feature_importances_\n",
    "std = np.std([tree.feature_importances_ for tree in rf.estimators_],\n",
    "             axis=0)\n",
    "indices = np.argsort(importances)[::-1]\n",
    "\n",
    "# get the predictor names of the predictors ranked by importance\n",
    "predictor_names = df_for_model.ix[:, 1:].columns.values\n",
    "predictor_names = [predictor_names[i] for i in indices]\n",
    "\n",
    "# Plot the feature importances of the forest\n",
    "plt.figure(figsize=(20, 20))\n",
    "plt.title(\"Random Forest Model - Price - Feature importances\")\n",
    "plt.bar(range(x.shape[1]), importances[indices],\n",
    "       color=\"r\", align=\"center\")\n",
    "plt.xticks(range(x.shape[1]), predictor_names)\n",
    "plt.xlim([-1, x.shape[1]])\n",
    "plt.show()"
   ]
  },
  {
   "cell_type": "code",
   "execution_count": 75,
   "metadata": {
    "collapsed": true
   },
   "outputs": [],
   "source": [
    "# store the feature importances in excel for plotting in tableau\n",
    "variable_importance = pd.DataFrame(predictor_names, columns = ['predictors'])    \n",
    "variable_importance['importance'] = importances[indices]\n",
    "variable_importance.to_excel('rent_visualization_data/rf_variable_importance_no_log.xlsx')"
   ]
  },
  {
   "cell_type": "markdown",
   "metadata": {},
   "source": [
    "*Random Forest - Log Price*"
   ]
  },
  {
   "cell_type": "code",
   "execution_count": 49,
   "metadata": {
    "collapsed": false
   },
   "outputs": [
    {
     "name": "stdout",
     "output_type": "stream",
     "text": [
      "Features:1; Score:0.9015\n",
      "Features:2; Score:0.9107\n",
      "Features:3; Score:0.9131\n",
      "Features:4; Score:0.9135\n",
      "Features:5; Score:0.9121\n",
      "Features:6; Score:0.9115\n",
      "Features:7; Score:0.9101\n",
      "Features:8; Score:0.9097\n",
      "Features:9; Score:0.9096\n",
      "Features:10; Score:0.9086\n",
      "Features:11; Score:0.9086\n",
      "Features:12; Score:0.9078\n",
      "Features:13; Score:0.9075\n",
      "Features:14; Score:0.9077\n",
      "Features:15; Score:0.9072\n",
      "Features:16; Score:0.9067\n",
      "Features:17; Score:0.9061\n",
      "Features:18; Score:0.9059\n",
      "Features:19; Score:0.9051\n",
      "Features:20; Score:0.9056\n",
      "Features:21; Score:0.9047\n",
      "Features:22; Score:0.9044\n",
      "Features:23; Score:0.9038\n"
     ]
    }
   ],
   "source": [
    "# tune parameters for random forest through cross validation\n",
    "cv_scores = rf_cv(x_train, y_train_log)"
   ]
  },
  {
   "cell_type": "code",
   "execution_count": 69,
   "metadata": {
    "collapsed": false
   },
   "outputs": [
    {
     "name": "stdout",
     "output_type": "stream",
     "text": [
      "Train Score: 0.9433\n",
      "Test Score: 0.7830\n"
     ]
    }
   ],
   "source": [
    "# fit and score random forest to predict log price\n",
    "rfLog = RandomForestRegressor(max_features = 4, n_estimators = 500)\n",
    "rfLog.fit(x_train, y_train_log)\n",
    "\n",
    "print 'Train Score: {0:.4f}'.format(r2_score(y_train, np.exp(rfLog.predict(x_train))))\n",
    "print 'Test Score: {0:.4f}'.format(r2_score(y_test, np.exp(rfLog.predict(x_test))))"
   ]
  },
  {
   "cell_type": "code",
   "execution_count": 70,
   "metadata": {
    "collapsed": true
   },
   "outputs": [],
   "source": [
    "# write data to excel for tableau visualizations\n",
    "model_data_to_excel(rfLog, x_train, x_train, y_train, True, df_for_model, 'rf_train_log')\n",
    "model_data_to_excel(rfLog, x_test, x_test, y_test, True, df_for_model, 'rf_test_log')"
   ]
  },
  {
   "cell_type": "code",
   "execution_count": 71,
   "metadata": {
    "collapsed": false
   },
   "outputs": [
    {
     "data": {
      "image/png": "[encoded data removed]",
      "text/plain": [
       "<matplotlib.figure.Figure at 0xc634a58>"
      ]
     },
     "metadata": {},
     "output_type": "display_data"
    }
   ],
   "source": [
    "# get feature importance scores in the random forest model\n",
    "importances = rfLog.feature_importances_\n",
    "std = np.std([tree.feature_importances_ for tree in rfLog.estimators_],\n",
    "             axis=0)\n",
    "indices = np.argsort(importances)[::-1]\n",
    "\n",
    "# get the predictor names of the predictors ranked by importance\n",
    "predictor_names = df_for_model.ix[:, 1:].columns.values\n",
    "predictor_names = [predictor_names[i] for i in indices]\n",
    "\n",
    "# Plot the feature importances of the forest\n",
    "plt.figure(figsize=(20, 20))\n",
    "plt.title(\"Random Forest Model - Log Price - Feature importances\")\n",
    "plt.bar(range(x.shape[1]), importances[indices],\n",
    "       color=\"r\", align=\"center\")\n",
    "plt.xticks(range(x.shape[1]), predictor_names)\n",
    "plt.xlim([-1, x.shape[1]])\n",
    "plt.show()"
   ]
  },
  {
   "cell_type": "code",
   "execution_count": 72,
   "metadata": {
    "collapsed": true
   },
   "outputs": [],
   "source": [
    "# store the feature importances in excel for plotting in tableau\n",
    "variable_importance = pd.DataFrame(predictor_names, columns = ['predictors'])    \n",
    "variable_importance['importance'] = importances[indices]\n",
    "variable_importance.to_excel('rent_visualization_data/rf_variable_importance_log.xlsx')"
   ]
  }
 ],
 "metadata": {
  "anaconda-cloud": {},
  "kernelspec": {
   "display_name": "Python [Root]",
   "language": "python",
   "name": "Python [Root]"
  },
  "language_info": {
   "codemirror_mode": {
    "name": "ipython",
    "version": 2
   },
   "file_extension": ".py",
   "mimetype": "text/x-python",
   "name": "python",
   "nbconvert_exporter": "python",
   "pygments_lexer": "ipython2",
   "version": "2.7.12"
  }
 },
 "nbformat": 4,
 "nbformat_minor": 0
}

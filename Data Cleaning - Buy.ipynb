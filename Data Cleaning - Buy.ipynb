{
 "cells": [
  {
   "cell_type": "code",
   "execution_count": 17,
   "metadata": {
    "collapsed": true
   },
   "outputs": [],
   "source": [
    "import pandas as pd\n",
    "import numpy as np"
   ]
  },
  {
   "cell_type": "code",
   "execution_count": 18,
   "metadata": {
    "collapsed": false
   },
   "outputs": [],
   "source": [
    "# load csv containing zipcodes and clean the file before merging\n",
    "zipcodes = pd.read_csv('zipcodes.csv')\n",
    "zipcodes['City'] = zipcodes.apply(lambda row: row['City'] if row['County'] != 'Queens' else row['County'], axis = 1) \n",
    "zipcodes = zipcodes.ix[:, :2]\n",
    "zipcode_key = zipcodes.set_index('Zip Code').T.to_dict('list')"
   ]
  },
  {
   "cell_type": "code",
   "execution_count": 19,
   "metadata": {
    "collapsed": true
   },
   "outputs": [],
   "source": [
    "df_buy = pd.read_csv('streeteasy_buy_clean_geo.csv')\n",
    "\n",
    "drops = []\n",
    "for idx, column in enumerate(df_buy.columns.values):\n",
    "    #print idx, column\n",
    "    if 'Unnamed' in column or 'fill' in column:\n",
    "        drops.append(idx)\n",
    "df_buy.drop(df_buy.columns[drops], 1, inplace = True)"
   ]
  },
  {
   "cell_type": "code",
   "execution_count": 20,
   "metadata": {
    "collapsed": true
   },
   "outputs": [],
   "source": [
    "def get_borough(zipcode):\n",
    "    try:\n",
    "        return zipcode_key[int(zipcode)][0]\n",
    "    except:\n",
    "        return np.nan\n",
    "\n",
    "df_buy['Borough'] = df_buy['Zipcode'].apply(lambda zipcode: get_borough(zipcode))\n",
    "df_buy['Sqft_sq'] = df_buy['Sqft'].apply(lambda sqft: sqft ** 2.0)"
   ]
  },
  {
   "cell_type": "code",
   "execution_count": 21,
   "metadata": {
    "collapsed": true
   },
   "outputs": [],
   "source": [
    "df_buy.Borough = df_buy.Borough.replace(to_replace = 'New York', value = 'Manhattan')"
   ]
  },
  {
   "cell_type": "code",
   "execution_count": 22,
   "metadata": {
    "collapsed": false
   },
   "outputs": [
    {
     "data": {
      "text/plain": [
       "Manhattan        4433\n",
       "Brooklyn         2099\n",
       "Queens            616\n",
       "Bronx             366\n",
       "Staten Island      77\n",
       "Name: Borough, dtype: int64"
      ]
     },
     "execution_count": 22,
     "metadata": {},
     "output_type": "execute_result"
    }
   ],
   "source": [
    "df_buy['Borough'].value_counts()"
   ]
  },
  {
   "cell_type": "code",
   "execution_count": 23,
   "metadata": {
    "collapsed": false
   },
   "outputs": [
    {
     "data": {
      "text/plain": [
       "array(['Address', 'Architect', 'Baths', 'Beds', 'Bike Room',\n",
       "       'Building Amenities', 'Building Class', 'Built Year',\n",
       "       'Cats Only - No Dogs', 'Cats and Dogs Allowed',\n",
       "       \"Children's Playroom\", 'City', 'City Council', 'Cold Storage',\n",
       "       'Community', 'Community Recreation Facilities', 'Concierge',\n",
       "       'Crime', 'Deck', 'Developer', 'Doorman', 'Elevator',\n",
       "       'Full-time Doorman', 'Garage Parking', 'Garden', 'Green Building',\n",
       "       'Gym', 'Highlights', 'Hot Tub', 'Interiors', 'Land Lease',\n",
       "       'Laundry in Building', 'Live-in Super', 'Media Room',\n",
       "       'NYC Storm Zone 1', 'NYC Storm Zone 2', 'NYC Storm Zone 3',\n",
       "       'NYC Storm Zone 4', 'NYC Storm Zone 5', 'NYC Storm Zone 6',\n",
       "       'Package Room', 'Parking Available', 'Part-time Doorman', 'Patio',\n",
       "       'Pets Allowed', 'Police', 'Price', 'Roof Deck', 'School District',\n",
       "       'SchoolScore', 'Smoke-free', 'Sqft', 'State', 'Storage Available',\n",
       "       'Stories', 'Street', 'Swimming Pool', 'Transportation', 'Units',\n",
       "       'Valet', 'Valet Parking', 'Virtual Doorman', 'Waterfront',\n",
       "       'Zipcode', 'latitude', 'longitude', 'std_crime', 'age', 'age_sq',\n",
       "       'Stories_sq', 'Stories_cubed', 'travel_minutes', 'travel_km',\n",
       "       'central_park_border_km', 'washington_sq_km', 'tompkins_sq_km',\n",
       "       'travel_minutes_grand_central', 'travel_km_grand_central',\n",
       "       'Borough', 'Sqft_sq'], dtype=object)"
      ]
     },
     "execution_count": 23,
     "metadata": {},
     "output_type": "execute_result"
    }
   ],
   "source": [
    "df_buy.columns.values"
   ]
  },
  {
   "cell_type": "code",
   "execution_count": 24,
   "metadata": {
    "collapsed": true
   },
   "outputs": [],
   "source": [
    "df_buy_clean = df_buy.drop(['Architect', 'Building Amenities', 'Community', 'City Council', \n",
    "            'Developer', 'Highlights', 'Transportation', 'Street', 'State'], axis=1)\n",
    "df_buy_clean = df_buy_clean[df_buy_clean['Sqft'] < 60000]"
   ]
  },
  {
   "cell_type": "code",
   "execution_count": 25,
   "metadata": {
    "collapsed": false
   },
   "outputs": [],
   "source": [
    "df_buy_clean.to_csv('buy_clean_dataset.csv')"
   ]
  },
  {
   "cell_type": "code",
   "execution_count": 27,
   "metadata": {
    "collapsed": false
   },
   "outputs": [],
   "source": [
    "# store the predictor dataset for visualization in tableau\n",
    "df_buy_clean.to_excel('buy_visualization_data/buy_full_dataset.xlsx')"
   ]
  }
 ],
 "metadata": {
  "anaconda-cloud": {},
  "kernelspec": {
   "display_name": "Python [Root]",
   "language": "python",
   "name": "Python [Root]"
  },
  "language_info": {
   "codemirror_mode": {
    "name": "ipython",
    "version": 2
   },
   "file_extension": ".py",
   "mimetype": "text/x-python",
   "name": "python",
   "nbconvert_exporter": "python",
   "pygments_lexer": "ipython2",
   "version": "2.7.12"
  }
 },
 "nbformat": 4,
 "nbformat_minor": 0
}
